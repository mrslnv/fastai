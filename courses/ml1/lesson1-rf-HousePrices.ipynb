{
 "cells": [
  {
   "cell_type": "markdown",
   "metadata": {},
   "source": [
    "**Important: This notebook will only work with fastai-0.7.x. Do not try to run any fastai-1.x code from this path in the repository because it will load fastai-0.7.x**"
   ]
  },
  {
   "cell_type": "markdown",
   "metadata": {},
   "source": [
    "# Intro to Random Forests"
   ]
  },
  {
   "cell_type": "markdown",
   "metadata": {},
   "source": [
    "## About this course"
   ]
  },
  {
   "cell_type": "markdown",
   "metadata": {},
   "source": [
    "### Teaching approach"
   ]
  },
  {
   "cell_type": "code",
   "execution_count": 108,
   "metadata": {},
   "outputs": [
    {
     "name": "stdout",
     "output_type": "stream",
     "text": [
      "The autoreload extension is already loaded. To reload it, use:\n",
      "  %reload_ext autoreload\n"
     ]
    }
   ],
   "source": [
    "%load_ext autoreload\n",
    "%autoreload 2\n",
    "\n",
    "%matplotlib inline"
   ]
  },
  {
   "cell_type": "code",
   "execution_count": 109,
   "metadata": {},
   "outputs": [],
   "source": [
    "from fastai.imports import *\n",
    "from fastai.structured import *\n",
    "\n",
    "from pandas_summary import DataFrameSummary\n",
    "from sklearn.ensemble import RandomForestRegressor, RandomForestClassifier\n",
    "from IPython.display import display\n",
    "\n",
    "from sklearn import metrics"
   ]
  },
  {
   "cell_type": "code",
   "execution_count": 110,
   "metadata": {},
   "outputs": [],
   "source": [
    "PATH = \"data/houseprices/\""
   ]
  },
  {
   "cell_type": "code",
   "execution_count": 111,
   "metadata": {},
   "outputs": [
    {
     "name": "stdout",
     "output_type": "stream",
     "text": [
      "/c/Code/fastai/courses/ml1\n"
     ]
    }
   ],
   "source": [
    "!pwd"
   ]
  },
  {
   "cell_type": "code",
   "execution_count": 112,
   "metadata": {},
   "outputs": [
    {
     "name": "stdout",
     "output_type": "stream",
     "text": [
      "data_description.txt\n",
      "sample_submission.csv\n",
      "test.csv\n",
      "train.csv\n"
     ]
    }
   ],
   "source": [
    "!ls {PATH}"
   ]
  },
  {
   "cell_type": "code",
   "execution_count": 113,
   "metadata": {},
   "outputs": [],
   "source": [
    "df_raw = pd.read_csv(f'{PATH}train.csv', low_memory=False)"
   ]
  },
  {
   "cell_type": "code",
   "execution_count": 114,
   "metadata": {},
   "outputs": [],
   "source": [
    "def display_all(df):\n",
    "    with pd.option_context(\"display.max_rows\", 1000, \"display.max_columns\", 1000): \n",
    "        display(df)"
   ]
  },
  {
   "cell_type": "code",
   "execution_count": 115,
   "metadata": {},
   "outputs": [
    {
     "data": {
      "text/html": [
       "<div>\n",
       "<style scoped>\n",
       "    .dataframe tbody tr th:only-of-type {\n",
       "        vertical-align: middle;\n",
       "    }\n",
       "\n",
       "    .dataframe tbody tr th {\n",
       "        vertical-align: top;\n",
       "    }\n",
       "\n",
       "    .dataframe thead th {\n",
       "        text-align: right;\n",
       "    }\n",
       "</style>\n",
       "<table border=\"1\" class=\"dataframe\">\n",
       "  <thead>\n",
       "    <tr style=\"text-align: right;\">\n",
       "      <th></th>\n",
       "      <th>1455</th>\n",
       "      <th>1456</th>\n",
       "      <th>1457</th>\n",
       "      <th>1458</th>\n",
       "      <th>1459</th>\n",
       "    </tr>\n",
       "  </thead>\n",
       "  <tbody>\n",
       "    <tr>\n",
       "      <th>Id</th>\n",
       "      <td>1456</td>\n",
       "      <td>1457</td>\n",
       "      <td>1458</td>\n",
       "      <td>1459</td>\n",
       "      <td>1460</td>\n",
       "    </tr>\n",
       "    <tr>\n",
       "      <th>MSSubClass</th>\n",
       "      <td>60</td>\n",
       "      <td>20</td>\n",
       "      <td>70</td>\n",
       "      <td>20</td>\n",
       "      <td>20</td>\n",
       "    </tr>\n",
       "    <tr>\n",
       "      <th>MSZoning</th>\n",
       "      <td>RL</td>\n",
       "      <td>RL</td>\n",
       "      <td>RL</td>\n",
       "      <td>RL</td>\n",
       "      <td>RL</td>\n",
       "    </tr>\n",
       "    <tr>\n",
       "      <th>LotFrontage</th>\n",
       "      <td>62</td>\n",
       "      <td>85</td>\n",
       "      <td>66</td>\n",
       "      <td>68</td>\n",
       "      <td>75</td>\n",
       "    </tr>\n",
       "    <tr>\n",
       "      <th>LotArea</th>\n",
       "      <td>7917</td>\n",
       "      <td>13175</td>\n",
       "      <td>9042</td>\n",
       "      <td>9717</td>\n",
       "      <td>9937</td>\n",
       "    </tr>\n",
       "    <tr>\n",
       "      <th>Street</th>\n",
       "      <td>Pave</td>\n",
       "      <td>Pave</td>\n",
       "      <td>Pave</td>\n",
       "      <td>Pave</td>\n",
       "      <td>Pave</td>\n",
       "    </tr>\n",
       "    <tr>\n",
       "      <th>Alley</th>\n",
       "      <td>NaN</td>\n",
       "      <td>NaN</td>\n",
       "      <td>NaN</td>\n",
       "      <td>NaN</td>\n",
       "      <td>NaN</td>\n",
       "    </tr>\n",
       "    <tr>\n",
       "      <th>LotShape</th>\n",
       "      <td>Reg</td>\n",
       "      <td>Reg</td>\n",
       "      <td>Reg</td>\n",
       "      <td>Reg</td>\n",
       "      <td>Reg</td>\n",
       "    </tr>\n",
       "    <tr>\n",
       "      <th>LandContour</th>\n",
       "      <td>Lvl</td>\n",
       "      <td>Lvl</td>\n",
       "      <td>Lvl</td>\n",
       "      <td>Lvl</td>\n",
       "      <td>Lvl</td>\n",
       "    </tr>\n",
       "    <tr>\n",
       "      <th>Utilities</th>\n",
       "      <td>AllPub</td>\n",
       "      <td>AllPub</td>\n",
       "      <td>AllPub</td>\n",
       "      <td>AllPub</td>\n",
       "      <td>AllPub</td>\n",
       "    </tr>\n",
       "    <tr>\n",
       "      <th>LotConfig</th>\n",
       "      <td>Inside</td>\n",
       "      <td>Inside</td>\n",
       "      <td>Inside</td>\n",
       "      <td>Inside</td>\n",
       "      <td>Inside</td>\n",
       "    </tr>\n",
       "    <tr>\n",
       "      <th>LandSlope</th>\n",
       "      <td>Gtl</td>\n",
       "      <td>Gtl</td>\n",
       "      <td>Gtl</td>\n",
       "      <td>Gtl</td>\n",
       "      <td>Gtl</td>\n",
       "    </tr>\n",
       "    <tr>\n",
       "      <th>Neighborhood</th>\n",
       "      <td>Gilbert</td>\n",
       "      <td>NWAmes</td>\n",
       "      <td>Crawfor</td>\n",
       "      <td>NAmes</td>\n",
       "      <td>Edwards</td>\n",
       "    </tr>\n",
       "    <tr>\n",
       "      <th>Condition1</th>\n",
       "      <td>Norm</td>\n",
       "      <td>Norm</td>\n",
       "      <td>Norm</td>\n",
       "      <td>Norm</td>\n",
       "      <td>Norm</td>\n",
       "    </tr>\n",
       "    <tr>\n",
       "      <th>Condition2</th>\n",
       "      <td>Norm</td>\n",
       "      <td>Norm</td>\n",
       "      <td>Norm</td>\n",
       "      <td>Norm</td>\n",
       "      <td>Norm</td>\n",
       "    </tr>\n",
       "    <tr>\n",
       "      <th>BldgType</th>\n",
       "      <td>1Fam</td>\n",
       "      <td>1Fam</td>\n",
       "      <td>1Fam</td>\n",
       "      <td>1Fam</td>\n",
       "      <td>1Fam</td>\n",
       "    </tr>\n",
       "    <tr>\n",
       "      <th>HouseStyle</th>\n",
       "      <td>2Story</td>\n",
       "      <td>1Story</td>\n",
       "      <td>2Story</td>\n",
       "      <td>1Story</td>\n",
       "      <td>1Story</td>\n",
       "    </tr>\n",
       "    <tr>\n",
       "      <th>OverallQual</th>\n",
       "      <td>6</td>\n",
       "      <td>6</td>\n",
       "      <td>7</td>\n",
       "      <td>5</td>\n",
       "      <td>5</td>\n",
       "    </tr>\n",
       "    <tr>\n",
       "      <th>OverallCond</th>\n",
       "      <td>5</td>\n",
       "      <td>6</td>\n",
       "      <td>9</td>\n",
       "      <td>6</td>\n",
       "      <td>6</td>\n",
       "    </tr>\n",
       "    <tr>\n",
       "      <th>YearBuilt</th>\n",
       "      <td>1999</td>\n",
       "      <td>1978</td>\n",
       "      <td>1941</td>\n",
       "      <td>1950</td>\n",
       "      <td>1965</td>\n",
       "    </tr>\n",
       "    <tr>\n",
       "      <th>YearRemodAdd</th>\n",
       "      <td>2000</td>\n",
       "      <td>1988</td>\n",
       "      <td>2006</td>\n",
       "      <td>1996</td>\n",
       "      <td>1965</td>\n",
       "    </tr>\n",
       "    <tr>\n",
       "      <th>RoofStyle</th>\n",
       "      <td>Gable</td>\n",
       "      <td>Gable</td>\n",
       "      <td>Gable</td>\n",
       "      <td>Hip</td>\n",
       "      <td>Gable</td>\n",
       "    </tr>\n",
       "    <tr>\n",
       "      <th>RoofMatl</th>\n",
       "      <td>CompShg</td>\n",
       "      <td>CompShg</td>\n",
       "      <td>CompShg</td>\n",
       "      <td>CompShg</td>\n",
       "      <td>CompShg</td>\n",
       "    </tr>\n",
       "    <tr>\n",
       "      <th>Exterior1st</th>\n",
       "      <td>VinylSd</td>\n",
       "      <td>Plywood</td>\n",
       "      <td>CemntBd</td>\n",
       "      <td>MetalSd</td>\n",
       "      <td>HdBoard</td>\n",
       "    </tr>\n",
       "    <tr>\n",
       "      <th>Exterior2nd</th>\n",
       "      <td>VinylSd</td>\n",
       "      <td>Plywood</td>\n",
       "      <td>CmentBd</td>\n",
       "      <td>MetalSd</td>\n",
       "      <td>HdBoard</td>\n",
       "    </tr>\n",
       "    <tr>\n",
       "      <th>MasVnrType</th>\n",
       "      <td>None</td>\n",
       "      <td>Stone</td>\n",
       "      <td>None</td>\n",
       "      <td>None</td>\n",
       "      <td>None</td>\n",
       "    </tr>\n",
       "    <tr>\n",
       "      <th>MasVnrArea</th>\n",
       "      <td>0</td>\n",
       "      <td>119</td>\n",
       "      <td>0</td>\n",
       "      <td>0</td>\n",
       "      <td>0</td>\n",
       "    </tr>\n",
       "    <tr>\n",
       "      <th>ExterQual</th>\n",
       "      <td>TA</td>\n",
       "      <td>TA</td>\n",
       "      <td>Ex</td>\n",
       "      <td>TA</td>\n",
       "      <td>Gd</td>\n",
       "    </tr>\n",
       "    <tr>\n",
       "      <th>ExterCond</th>\n",
       "      <td>TA</td>\n",
       "      <td>TA</td>\n",
       "      <td>Gd</td>\n",
       "      <td>TA</td>\n",
       "      <td>TA</td>\n",
       "    </tr>\n",
       "    <tr>\n",
       "      <th>Foundation</th>\n",
       "      <td>PConc</td>\n",
       "      <td>CBlock</td>\n",
       "      <td>Stone</td>\n",
       "      <td>CBlock</td>\n",
       "      <td>CBlock</td>\n",
       "    </tr>\n",
       "    <tr>\n",
       "      <th>BsmtQual</th>\n",
       "      <td>Gd</td>\n",
       "      <td>Gd</td>\n",
       "      <td>TA</td>\n",
       "      <td>TA</td>\n",
       "      <td>TA</td>\n",
       "    </tr>\n",
       "    <tr>\n",
       "      <th>BsmtCond</th>\n",
       "      <td>TA</td>\n",
       "      <td>TA</td>\n",
       "      <td>Gd</td>\n",
       "      <td>TA</td>\n",
       "      <td>TA</td>\n",
       "    </tr>\n",
       "    <tr>\n",
       "      <th>BsmtExposure</th>\n",
       "      <td>No</td>\n",
       "      <td>No</td>\n",
       "      <td>No</td>\n",
       "      <td>Mn</td>\n",
       "      <td>No</td>\n",
       "    </tr>\n",
       "    <tr>\n",
       "      <th>BsmtFinType1</th>\n",
       "      <td>Unf</td>\n",
       "      <td>ALQ</td>\n",
       "      <td>GLQ</td>\n",
       "      <td>GLQ</td>\n",
       "      <td>BLQ</td>\n",
       "    </tr>\n",
       "    <tr>\n",
       "      <th>BsmtFinSF1</th>\n",
       "      <td>0</td>\n",
       "      <td>790</td>\n",
       "      <td>275</td>\n",
       "      <td>49</td>\n",
       "      <td>830</td>\n",
       "    </tr>\n",
       "    <tr>\n",
       "      <th>BsmtFinType2</th>\n",
       "      <td>Unf</td>\n",
       "      <td>Rec</td>\n",
       "      <td>Unf</td>\n",
       "      <td>Rec</td>\n",
       "      <td>LwQ</td>\n",
       "    </tr>\n",
       "    <tr>\n",
       "      <th>BsmtFinSF2</th>\n",
       "      <td>0</td>\n",
       "      <td>163</td>\n",
       "      <td>0</td>\n",
       "      <td>1029</td>\n",
       "      <td>290</td>\n",
       "    </tr>\n",
       "    <tr>\n",
       "      <th>BsmtUnfSF</th>\n",
       "      <td>953</td>\n",
       "      <td>589</td>\n",
       "      <td>877</td>\n",
       "      <td>0</td>\n",
       "      <td>136</td>\n",
       "    </tr>\n",
       "    <tr>\n",
       "      <th>TotalBsmtSF</th>\n",
       "      <td>953</td>\n",
       "      <td>1542</td>\n",
       "      <td>1152</td>\n",
       "      <td>1078</td>\n",
       "      <td>1256</td>\n",
       "    </tr>\n",
       "    <tr>\n",
       "      <th>Heating</th>\n",
       "      <td>GasA</td>\n",
       "      <td>GasA</td>\n",
       "      <td>GasA</td>\n",
       "      <td>GasA</td>\n",
       "      <td>GasA</td>\n",
       "    </tr>\n",
       "    <tr>\n",
       "      <th>HeatingQC</th>\n",
       "      <td>Ex</td>\n",
       "      <td>TA</td>\n",
       "      <td>Ex</td>\n",
       "      <td>Gd</td>\n",
       "      <td>Gd</td>\n",
       "    </tr>\n",
       "    <tr>\n",
       "      <th>CentralAir</th>\n",
       "      <td>Y</td>\n",
       "      <td>Y</td>\n",
       "      <td>Y</td>\n",
       "      <td>Y</td>\n",
       "      <td>Y</td>\n",
       "    </tr>\n",
       "    <tr>\n",
       "      <th>Electrical</th>\n",
       "      <td>SBrkr</td>\n",
       "      <td>SBrkr</td>\n",
       "      <td>SBrkr</td>\n",
       "      <td>FuseA</td>\n",
       "      <td>SBrkr</td>\n",
       "    </tr>\n",
       "    <tr>\n",
       "      <th>1stFlrSF</th>\n",
       "      <td>953</td>\n",
       "      <td>2073</td>\n",
       "      <td>1188</td>\n",
       "      <td>1078</td>\n",
       "      <td>1256</td>\n",
       "    </tr>\n",
       "    <tr>\n",
       "      <th>2ndFlrSF</th>\n",
       "      <td>694</td>\n",
       "      <td>0</td>\n",
       "      <td>1152</td>\n",
       "      <td>0</td>\n",
       "      <td>0</td>\n",
       "    </tr>\n",
       "    <tr>\n",
       "      <th>LowQualFinSF</th>\n",
       "      <td>0</td>\n",
       "      <td>0</td>\n",
       "      <td>0</td>\n",
       "      <td>0</td>\n",
       "      <td>0</td>\n",
       "    </tr>\n",
       "    <tr>\n",
       "      <th>GrLivArea</th>\n",
       "      <td>1647</td>\n",
       "      <td>2073</td>\n",
       "      <td>2340</td>\n",
       "      <td>1078</td>\n",
       "      <td>1256</td>\n",
       "    </tr>\n",
       "    <tr>\n",
       "      <th>BsmtFullBath</th>\n",
       "      <td>0</td>\n",
       "      <td>1</td>\n",
       "      <td>0</td>\n",
       "      <td>1</td>\n",
       "      <td>1</td>\n",
       "    </tr>\n",
       "    <tr>\n",
       "      <th>BsmtHalfBath</th>\n",
       "      <td>0</td>\n",
       "      <td>0</td>\n",
       "      <td>0</td>\n",
       "      <td>0</td>\n",
       "      <td>0</td>\n",
       "    </tr>\n",
       "    <tr>\n",
       "      <th>FullBath</th>\n",
       "      <td>2</td>\n",
       "      <td>2</td>\n",
       "      <td>2</td>\n",
       "      <td>1</td>\n",
       "      <td>1</td>\n",
       "    </tr>\n",
       "    <tr>\n",
       "      <th>HalfBath</th>\n",
       "      <td>1</td>\n",
       "      <td>0</td>\n",
       "      <td>0</td>\n",
       "      <td>0</td>\n",
       "      <td>1</td>\n",
       "    </tr>\n",
       "    <tr>\n",
       "      <th>BedroomAbvGr</th>\n",
       "      <td>3</td>\n",
       "      <td>3</td>\n",
       "      <td>4</td>\n",
       "      <td>2</td>\n",
       "      <td>3</td>\n",
       "    </tr>\n",
       "    <tr>\n",
       "      <th>KitchenAbvGr</th>\n",
       "      <td>1</td>\n",
       "      <td>1</td>\n",
       "      <td>1</td>\n",
       "      <td>1</td>\n",
       "      <td>1</td>\n",
       "    </tr>\n",
       "    <tr>\n",
       "      <th>KitchenQual</th>\n",
       "      <td>TA</td>\n",
       "      <td>TA</td>\n",
       "      <td>Gd</td>\n",
       "      <td>Gd</td>\n",
       "      <td>TA</td>\n",
       "    </tr>\n",
       "    <tr>\n",
       "      <th>TotRmsAbvGrd</th>\n",
       "      <td>7</td>\n",
       "      <td>7</td>\n",
       "      <td>9</td>\n",
       "      <td>5</td>\n",
       "      <td>6</td>\n",
       "    </tr>\n",
       "    <tr>\n",
       "      <th>Functional</th>\n",
       "      <td>Typ</td>\n",
       "      <td>Min1</td>\n",
       "      <td>Typ</td>\n",
       "      <td>Typ</td>\n",
       "      <td>Typ</td>\n",
       "    </tr>\n",
       "    <tr>\n",
       "      <th>Fireplaces</th>\n",
       "      <td>1</td>\n",
       "      <td>2</td>\n",
       "      <td>2</td>\n",
       "      <td>0</td>\n",
       "      <td>0</td>\n",
       "    </tr>\n",
       "    <tr>\n",
       "      <th>FireplaceQu</th>\n",
       "      <td>TA</td>\n",
       "      <td>TA</td>\n",
       "      <td>Gd</td>\n",
       "      <td>NaN</td>\n",
       "      <td>NaN</td>\n",
       "    </tr>\n",
       "    <tr>\n",
       "      <th>GarageType</th>\n",
       "      <td>Attchd</td>\n",
       "      <td>Attchd</td>\n",
       "      <td>Attchd</td>\n",
       "      <td>Attchd</td>\n",
       "      <td>Attchd</td>\n",
       "    </tr>\n",
       "    <tr>\n",
       "      <th>GarageYrBlt</th>\n",
       "      <td>1999</td>\n",
       "      <td>1978</td>\n",
       "      <td>1941</td>\n",
       "      <td>1950</td>\n",
       "      <td>1965</td>\n",
       "    </tr>\n",
       "    <tr>\n",
       "      <th>GarageFinish</th>\n",
       "      <td>RFn</td>\n",
       "      <td>Unf</td>\n",
       "      <td>RFn</td>\n",
       "      <td>Unf</td>\n",
       "      <td>Fin</td>\n",
       "    </tr>\n",
       "    <tr>\n",
       "      <th>GarageCars</th>\n",
       "      <td>2</td>\n",
       "      <td>2</td>\n",
       "      <td>1</td>\n",
       "      <td>1</td>\n",
       "      <td>1</td>\n",
       "    </tr>\n",
       "    <tr>\n",
       "      <th>GarageArea</th>\n",
       "      <td>460</td>\n",
       "      <td>500</td>\n",
       "      <td>252</td>\n",
       "      <td>240</td>\n",
       "      <td>276</td>\n",
       "    </tr>\n",
       "    <tr>\n",
       "      <th>GarageQual</th>\n",
       "      <td>TA</td>\n",
       "      <td>TA</td>\n",
       "      <td>TA</td>\n",
       "      <td>TA</td>\n",
       "      <td>TA</td>\n",
       "    </tr>\n",
       "    <tr>\n",
       "      <th>GarageCond</th>\n",
       "      <td>TA</td>\n",
       "      <td>TA</td>\n",
       "      <td>TA</td>\n",
       "      <td>TA</td>\n",
       "      <td>TA</td>\n",
       "    </tr>\n",
       "    <tr>\n",
       "      <th>PavedDrive</th>\n",
       "      <td>Y</td>\n",
       "      <td>Y</td>\n",
       "      <td>Y</td>\n",
       "      <td>Y</td>\n",
       "      <td>Y</td>\n",
       "    </tr>\n",
       "    <tr>\n",
       "      <th>WoodDeckSF</th>\n",
       "      <td>0</td>\n",
       "      <td>349</td>\n",
       "      <td>0</td>\n",
       "      <td>366</td>\n",
       "      <td>736</td>\n",
       "    </tr>\n",
       "    <tr>\n",
       "      <th>OpenPorchSF</th>\n",
       "      <td>40</td>\n",
       "      <td>0</td>\n",
       "      <td>60</td>\n",
       "      <td>0</td>\n",
       "      <td>68</td>\n",
       "    </tr>\n",
       "    <tr>\n",
       "      <th>EnclosedPorch</th>\n",
       "      <td>0</td>\n",
       "      <td>0</td>\n",
       "      <td>0</td>\n",
       "      <td>112</td>\n",
       "      <td>0</td>\n",
       "    </tr>\n",
       "    <tr>\n",
       "      <th>3SsnPorch</th>\n",
       "      <td>0</td>\n",
       "      <td>0</td>\n",
       "      <td>0</td>\n",
       "      <td>0</td>\n",
       "      <td>0</td>\n",
       "    </tr>\n",
       "    <tr>\n",
       "      <th>ScreenPorch</th>\n",
       "      <td>0</td>\n",
       "      <td>0</td>\n",
       "      <td>0</td>\n",
       "      <td>0</td>\n",
       "      <td>0</td>\n",
       "    </tr>\n",
       "    <tr>\n",
       "      <th>PoolArea</th>\n",
       "      <td>0</td>\n",
       "      <td>0</td>\n",
       "      <td>0</td>\n",
       "      <td>0</td>\n",
       "      <td>0</td>\n",
       "    </tr>\n",
       "    <tr>\n",
       "      <th>PoolQC</th>\n",
       "      <td>NaN</td>\n",
       "      <td>NaN</td>\n",
       "      <td>NaN</td>\n",
       "      <td>NaN</td>\n",
       "      <td>NaN</td>\n",
       "    </tr>\n",
       "    <tr>\n",
       "      <th>Fence</th>\n",
       "      <td>NaN</td>\n",
       "      <td>MnPrv</td>\n",
       "      <td>GdPrv</td>\n",
       "      <td>NaN</td>\n",
       "      <td>NaN</td>\n",
       "    </tr>\n",
       "    <tr>\n",
       "      <th>MiscFeature</th>\n",
       "      <td>NaN</td>\n",
       "      <td>NaN</td>\n",
       "      <td>Shed</td>\n",
       "      <td>NaN</td>\n",
       "      <td>NaN</td>\n",
       "    </tr>\n",
       "    <tr>\n",
       "      <th>MiscVal</th>\n",
       "      <td>0</td>\n",
       "      <td>0</td>\n",
       "      <td>2500</td>\n",
       "      <td>0</td>\n",
       "      <td>0</td>\n",
       "    </tr>\n",
       "    <tr>\n",
       "      <th>MoSold</th>\n",
       "      <td>8</td>\n",
       "      <td>2</td>\n",
       "      <td>5</td>\n",
       "      <td>4</td>\n",
       "      <td>6</td>\n",
       "    </tr>\n",
       "    <tr>\n",
       "      <th>YrSold</th>\n",
       "      <td>2007</td>\n",
       "      <td>2010</td>\n",
       "      <td>2010</td>\n",
       "      <td>2010</td>\n",
       "      <td>2008</td>\n",
       "    </tr>\n",
       "    <tr>\n",
       "      <th>SaleType</th>\n",
       "      <td>WD</td>\n",
       "      <td>WD</td>\n",
       "      <td>WD</td>\n",
       "      <td>WD</td>\n",
       "      <td>WD</td>\n",
       "    </tr>\n",
       "    <tr>\n",
       "      <th>SaleCondition</th>\n",
       "      <td>Normal</td>\n",
       "      <td>Normal</td>\n",
       "      <td>Normal</td>\n",
       "      <td>Normal</td>\n",
       "      <td>Normal</td>\n",
       "    </tr>\n",
       "    <tr>\n",
       "      <th>SalePrice</th>\n",
       "      <td>175000</td>\n",
       "      <td>210000</td>\n",
       "      <td>266500</td>\n",
       "      <td>142125</td>\n",
       "      <td>147500</td>\n",
       "    </tr>\n",
       "  </tbody>\n",
       "</table>\n",
       "</div>"
      ],
      "text/plain": [
       "                  1455     1456     1457     1458     1459\n",
       "Id                1456     1457     1458     1459     1460\n",
       "MSSubClass          60       20       70       20       20\n",
       "MSZoning            RL       RL       RL       RL       RL\n",
       "LotFrontage         62       85       66       68       75\n",
       "LotArea           7917    13175     9042     9717     9937\n",
       "Street            Pave     Pave     Pave     Pave     Pave\n",
       "Alley              NaN      NaN      NaN      NaN      NaN\n",
       "LotShape           Reg      Reg      Reg      Reg      Reg\n",
       "LandContour        Lvl      Lvl      Lvl      Lvl      Lvl\n",
       "Utilities       AllPub   AllPub   AllPub   AllPub   AllPub\n",
       "LotConfig       Inside   Inside   Inside   Inside   Inside\n",
       "LandSlope          Gtl      Gtl      Gtl      Gtl      Gtl\n",
       "Neighborhood   Gilbert   NWAmes  Crawfor    NAmes  Edwards\n",
       "Condition1        Norm     Norm     Norm     Norm     Norm\n",
       "Condition2        Norm     Norm     Norm     Norm     Norm\n",
       "BldgType          1Fam     1Fam     1Fam     1Fam     1Fam\n",
       "HouseStyle      2Story   1Story   2Story   1Story   1Story\n",
       "OverallQual          6        6        7        5        5\n",
       "OverallCond          5        6        9        6        6\n",
       "YearBuilt         1999     1978     1941     1950     1965\n",
       "YearRemodAdd      2000     1988     2006     1996     1965\n",
       "RoofStyle        Gable    Gable    Gable      Hip    Gable\n",
       "RoofMatl       CompShg  CompShg  CompShg  CompShg  CompShg\n",
       "Exterior1st    VinylSd  Plywood  CemntBd  MetalSd  HdBoard\n",
       "Exterior2nd    VinylSd  Plywood  CmentBd  MetalSd  HdBoard\n",
       "MasVnrType        None    Stone     None     None     None\n",
       "MasVnrArea           0      119        0        0        0\n",
       "ExterQual           TA       TA       Ex       TA       Gd\n",
       "ExterCond           TA       TA       Gd       TA       TA\n",
       "Foundation       PConc   CBlock    Stone   CBlock   CBlock\n",
       "BsmtQual            Gd       Gd       TA       TA       TA\n",
       "BsmtCond            TA       TA       Gd       TA       TA\n",
       "BsmtExposure        No       No       No       Mn       No\n",
       "BsmtFinType1       Unf      ALQ      GLQ      GLQ      BLQ\n",
       "BsmtFinSF1           0      790      275       49      830\n",
       "BsmtFinType2       Unf      Rec      Unf      Rec      LwQ\n",
       "BsmtFinSF2           0      163        0     1029      290\n",
       "BsmtUnfSF          953      589      877        0      136\n",
       "TotalBsmtSF        953     1542     1152     1078     1256\n",
       "Heating           GasA     GasA     GasA     GasA     GasA\n",
       "HeatingQC           Ex       TA       Ex       Gd       Gd\n",
       "CentralAir           Y        Y        Y        Y        Y\n",
       "Electrical       SBrkr    SBrkr    SBrkr    FuseA    SBrkr\n",
       "1stFlrSF           953     2073     1188     1078     1256\n",
       "2ndFlrSF           694        0     1152        0        0\n",
       "LowQualFinSF         0        0        0        0        0\n",
       "GrLivArea         1647     2073     2340     1078     1256\n",
       "BsmtFullBath         0        1        0        1        1\n",
       "BsmtHalfBath         0        0        0        0        0\n",
       "FullBath             2        2        2        1        1\n",
       "HalfBath             1        0        0        0        1\n",
       "BedroomAbvGr         3        3        4        2        3\n",
       "KitchenAbvGr         1        1        1        1        1\n",
       "KitchenQual         TA       TA       Gd       Gd       TA\n",
       "TotRmsAbvGrd         7        7        9        5        6\n",
       "Functional         Typ     Min1      Typ      Typ      Typ\n",
       "Fireplaces           1        2        2        0        0\n",
       "FireplaceQu         TA       TA       Gd      NaN      NaN\n",
       "GarageType      Attchd   Attchd   Attchd   Attchd   Attchd\n",
       "GarageYrBlt       1999     1978     1941     1950     1965\n",
       "GarageFinish       RFn      Unf      RFn      Unf      Fin\n",
       "GarageCars           2        2        1        1        1\n",
       "GarageArea         460      500      252      240      276\n",
       "GarageQual          TA       TA       TA       TA       TA\n",
       "GarageCond          TA       TA       TA       TA       TA\n",
       "PavedDrive           Y        Y        Y        Y        Y\n",
       "WoodDeckSF           0      349        0      366      736\n",
       "OpenPorchSF         40        0       60        0       68\n",
       "EnclosedPorch        0        0        0      112        0\n",
       "3SsnPorch            0        0        0        0        0\n",
       "ScreenPorch          0        0        0        0        0\n",
       "PoolArea             0        0        0        0        0\n",
       "PoolQC             NaN      NaN      NaN      NaN      NaN\n",
       "Fence              NaN    MnPrv    GdPrv      NaN      NaN\n",
       "MiscFeature        NaN      NaN     Shed      NaN      NaN\n",
       "MiscVal              0        0     2500        0        0\n",
       "MoSold               8        2        5        4        6\n",
       "YrSold            2007     2010     2010     2010     2008\n",
       "SaleType            WD       WD       WD       WD       WD\n",
       "SaleCondition   Normal   Normal   Normal   Normal   Normal\n",
       "SalePrice       175000   210000   266500   142125   147500"
      ]
     },
     "metadata": {},
     "output_type": "display_data"
    }
   ],
   "source": [
    "display_all(df_raw.tail().T)"
   ]
  },
  {
   "cell_type": "code",
   "execution_count": 116,
   "metadata": {},
   "outputs": [
    {
     "data": {
      "text/html": [
       "<div>\n",
       "<style scoped>\n",
       "    .dataframe tbody tr th:only-of-type {\n",
       "        vertical-align: middle;\n",
       "    }\n",
       "\n",
       "    .dataframe tbody tr th {\n",
       "        vertical-align: top;\n",
       "    }\n",
       "\n",
       "    .dataframe thead th {\n",
       "        text-align: right;\n",
       "    }\n",
       "</style>\n",
       "<table border=\"1\" class=\"dataframe\">\n",
       "  <thead>\n",
       "    <tr style=\"text-align: right;\">\n",
       "      <th></th>\n",
       "      <th>count</th>\n",
       "      <th>unique</th>\n",
       "      <th>top</th>\n",
       "      <th>freq</th>\n",
       "      <th>mean</th>\n",
       "      <th>std</th>\n",
       "      <th>min</th>\n",
       "      <th>25%</th>\n",
       "      <th>50%</th>\n",
       "      <th>75%</th>\n",
       "      <th>max</th>\n",
       "    </tr>\n",
       "  </thead>\n",
       "  <tbody>\n",
       "    <tr>\n",
       "      <th>Id</th>\n",
       "      <td>1460</td>\n",
       "      <td>NaN</td>\n",
       "      <td>NaN</td>\n",
       "      <td>NaN</td>\n",
       "      <td>730.5</td>\n",
       "      <td>421.61</td>\n",
       "      <td>1</td>\n",
       "      <td>365.75</td>\n",
       "      <td>730.5</td>\n",
       "      <td>1095.25</td>\n",
       "      <td>1460</td>\n",
       "    </tr>\n",
       "    <tr>\n",
       "      <th>MSSubClass</th>\n",
       "      <td>1460</td>\n",
       "      <td>NaN</td>\n",
       "      <td>NaN</td>\n",
       "      <td>NaN</td>\n",
       "      <td>56.8973</td>\n",
       "      <td>42.3006</td>\n",
       "      <td>20</td>\n",
       "      <td>20</td>\n",
       "      <td>50</td>\n",
       "      <td>70</td>\n",
       "      <td>190</td>\n",
       "    </tr>\n",
       "    <tr>\n",
       "      <th>MSZoning</th>\n",
       "      <td>1460</td>\n",
       "      <td>5</td>\n",
       "      <td>RL</td>\n",
       "      <td>1151</td>\n",
       "      <td>NaN</td>\n",
       "      <td>NaN</td>\n",
       "      <td>NaN</td>\n",
       "      <td>NaN</td>\n",
       "      <td>NaN</td>\n",
       "      <td>NaN</td>\n",
       "      <td>NaN</td>\n",
       "    </tr>\n",
       "    <tr>\n",
       "      <th>LotFrontage</th>\n",
       "      <td>1201</td>\n",
       "      <td>NaN</td>\n",
       "      <td>NaN</td>\n",
       "      <td>NaN</td>\n",
       "      <td>70.05</td>\n",
       "      <td>24.2848</td>\n",
       "      <td>21</td>\n",
       "      <td>59</td>\n",
       "      <td>69</td>\n",
       "      <td>80</td>\n",
       "      <td>313</td>\n",
       "    </tr>\n",
       "    <tr>\n",
       "      <th>LotArea</th>\n",
       "      <td>1460</td>\n",
       "      <td>NaN</td>\n",
       "      <td>NaN</td>\n",
       "      <td>NaN</td>\n",
       "      <td>10516.8</td>\n",
       "      <td>9981.26</td>\n",
       "      <td>1300</td>\n",
       "      <td>7553.5</td>\n",
       "      <td>9478.5</td>\n",
       "      <td>11601.5</td>\n",
       "      <td>215245</td>\n",
       "    </tr>\n",
       "    <tr>\n",
       "      <th>Street</th>\n",
       "      <td>1460</td>\n",
       "      <td>2</td>\n",
       "      <td>Pave</td>\n",
       "      <td>1454</td>\n",
       "      <td>NaN</td>\n",
       "      <td>NaN</td>\n",
       "      <td>NaN</td>\n",
       "      <td>NaN</td>\n",
       "      <td>NaN</td>\n",
       "      <td>NaN</td>\n",
       "      <td>NaN</td>\n",
       "    </tr>\n",
       "    <tr>\n",
       "      <th>Alley</th>\n",
       "      <td>91</td>\n",
       "      <td>2</td>\n",
       "      <td>Grvl</td>\n",
       "      <td>50</td>\n",
       "      <td>NaN</td>\n",
       "      <td>NaN</td>\n",
       "      <td>NaN</td>\n",
       "      <td>NaN</td>\n",
       "      <td>NaN</td>\n",
       "      <td>NaN</td>\n",
       "      <td>NaN</td>\n",
       "    </tr>\n",
       "    <tr>\n",
       "      <th>LotShape</th>\n",
       "      <td>1460</td>\n",
       "      <td>4</td>\n",
       "      <td>Reg</td>\n",
       "      <td>925</td>\n",
       "      <td>NaN</td>\n",
       "      <td>NaN</td>\n",
       "      <td>NaN</td>\n",
       "      <td>NaN</td>\n",
       "      <td>NaN</td>\n",
       "      <td>NaN</td>\n",
       "      <td>NaN</td>\n",
       "    </tr>\n",
       "    <tr>\n",
       "      <th>LandContour</th>\n",
       "      <td>1460</td>\n",
       "      <td>4</td>\n",
       "      <td>Lvl</td>\n",
       "      <td>1311</td>\n",
       "      <td>NaN</td>\n",
       "      <td>NaN</td>\n",
       "      <td>NaN</td>\n",
       "      <td>NaN</td>\n",
       "      <td>NaN</td>\n",
       "      <td>NaN</td>\n",
       "      <td>NaN</td>\n",
       "    </tr>\n",
       "    <tr>\n",
       "      <th>Utilities</th>\n",
       "      <td>1460</td>\n",
       "      <td>2</td>\n",
       "      <td>AllPub</td>\n",
       "      <td>1459</td>\n",
       "      <td>NaN</td>\n",
       "      <td>NaN</td>\n",
       "      <td>NaN</td>\n",
       "      <td>NaN</td>\n",
       "      <td>NaN</td>\n",
       "      <td>NaN</td>\n",
       "      <td>NaN</td>\n",
       "    </tr>\n",
       "    <tr>\n",
       "      <th>LotConfig</th>\n",
       "      <td>1460</td>\n",
       "      <td>5</td>\n",
       "      <td>Inside</td>\n",
       "      <td>1052</td>\n",
       "      <td>NaN</td>\n",
       "      <td>NaN</td>\n",
       "      <td>NaN</td>\n",
       "      <td>NaN</td>\n",
       "      <td>NaN</td>\n",
       "      <td>NaN</td>\n",
       "      <td>NaN</td>\n",
       "    </tr>\n",
       "    <tr>\n",
       "      <th>LandSlope</th>\n",
       "      <td>1460</td>\n",
       "      <td>3</td>\n",
       "      <td>Gtl</td>\n",
       "      <td>1382</td>\n",
       "      <td>NaN</td>\n",
       "      <td>NaN</td>\n",
       "      <td>NaN</td>\n",
       "      <td>NaN</td>\n",
       "      <td>NaN</td>\n",
       "      <td>NaN</td>\n",
       "      <td>NaN</td>\n",
       "    </tr>\n",
       "    <tr>\n",
       "      <th>Neighborhood</th>\n",
       "      <td>1460</td>\n",
       "      <td>25</td>\n",
       "      <td>NAmes</td>\n",
       "      <td>225</td>\n",
       "      <td>NaN</td>\n",
       "      <td>NaN</td>\n",
       "      <td>NaN</td>\n",
       "      <td>NaN</td>\n",
       "      <td>NaN</td>\n",
       "      <td>NaN</td>\n",
       "      <td>NaN</td>\n",
       "    </tr>\n",
       "    <tr>\n",
       "      <th>Condition1</th>\n",
       "      <td>1460</td>\n",
       "      <td>9</td>\n",
       "      <td>Norm</td>\n",
       "      <td>1260</td>\n",
       "      <td>NaN</td>\n",
       "      <td>NaN</td>\n",
       "      <td>NaN</td>\n",
       "      <td>NaN</td>\n",
       "      <td>NaN</td>\n",
       "      <td>NaN</td>\n",
       "      <td>NaN</td>\n",
       "    </tr>\n",
       "    <tr>\n",
       "      <th>Condition2</th>\n",
       "      <td>1460</td>\n",
       "      <td>8</td>\n",
       "      <td>Norm</td>\n",
       "      <td>1445</td>\n",
       "      <td>NaN</td>\n",
       "      <td>NaN</td>\n",
       "      <td>NaN</td>\n",
       "      <td>NaN</td>\n",
       "      <td>NaN</td>\n",
       "      <td>NaN</td>\n",
       "      <td>NaN</td>\n",
       "    </tr>\n",
       "    <tr>\n",
       "      <th>BldgType</th>\n",
       "      <td>1460</td>\n",
       "      <td>5</td>\n",
       "      <td>1Fam</td>\n",
       "      <td>1220</td>\n",
       "      <td>NaN</td>\n",
       "      <td>NaN</td>\n",
       "      <td>NaN</td>\n",
       "      <td>NaN</td>\n",
       "      <td>NaN</td>\n",
       "      <td>NaN</td>\n",
       "      <td>NaN</td>\n",
       "    </tr>\n",
       "    <tr>\n",
       "      <th>HouseStyle</th>\n",
       "      <td>1460</td>\n",
       "      <td>8</td>\n",
       "      <td>1Story</td>\n",
       "      <td>726</td>\n",
       "      <td>NaN</td>\n",
       "      <td>NaN</td>\n",
       "      <td>NaN</td>\n",
       "      <td>NaN</td>\n",
       "      <td>NaN</td>\n",
       "      <td>NaN</td>\n",
       "      <td>NaN</td>\n",
       "    </tr>\n",
       "    <tr>\n",
       "      <th>OverallQual</th>\n",
       "      <td>1460</td>\n",
       "      <td>NaN</td>\n",
       "      <td>NaN</td>\n",
       "      <td>NaN</td>\n",
       "      <td>6.09932</td>\n",
       "      <td>1.383</td>\n",
       "      <td>1</td>\n",
       "      <td>5</td>\n",
       "      <td>6</td>\n",
       "      <td>7</td>\n",
       "      <td>10</td>\n",
       "    </tr>\n",
       "    <tr>\n",
       "      <th>OverallCond</th>\n",
       "      <td>1460</td>\n",
       "      <td>NaN</td>\n",
       "      <td>NaN</td>\n",
       "      <td>NaN</td>\n",
       "      <td>5.57534</td>\n",
       "      <td>1.1128</td>\n",
       "      <td>1</td>\n",
       "      <td>5</td>\n",
       "      <td>5</td>\n",
       "      <td>6</td>\n",
       "      <td>9</td>\n",
       "    </tr>\n",
       "    <tr>\n",
       "      <th>YearBuilt</th>\n",
       "      <td>1460</td>\n",
       "      <td>NaN</td>\n",
       "      <td>NaN</td>\n",
       "      <td>NaN</td>\n",
       "      <td>1971.27</td>\n",
       "      <td>30.2029</td>\n",
       "      <td>1872</td>\n",
       "      <td>1954</td>\n",
       "      <td>1973</td>\n",
       "      <td>2000</td>\n",
       "      <td>2010</td>\n",
       "    </tr>\n",
       "    <tr>\n",
       "      <th>YearRemodAdd</th>\n",
       "      <td>1460</td>\n",
       "      <td>NaN</td>\n",
       "      <td>NaN</td>\n",
       "      <td>NaN</td>\n",
       "      <td>1984.87</td>\n",
       "      <td>20.6454</td>\n",
       "      <td>1950</td>\n",
       "      <td>1967</td>\n",
       "      <td>1994</td>\n",
       "      <td>2004</td>\n",
       "      <td>2010</td>\n",
       "    </tr>\n",
       "    <tr>\n",
       "      <th>RoofStyle</th>\n",
       "      <td>1460</td>\n",
       "      <td>6</td>\n",
       "      <td>Gable</td>\n",
       "      <td>1141</td>\n",
       "      <td>NaN</td>\n",
       "      <td>NaN</td>\n",
       "      <td>NaN</td>\n",
       "      <td>NaN</td>\n",
       "      <td>NaN</td>\n",
       "      <td>NaN</td>\n",
       "      <td>NaN</td>\n",
       "    </tr>\n",
       "    <tr>\n",
       "      <th>RoofMatl</th>\n",
       "      <td>1460</td>\n",
       "      <td>8</td>\n",
       "      <td>CompShg</td>\n",
       "      <td>1434</td>\n",
       "      <td>NaN</td>\n",
       "      <td>NaN</td>\n",
       "      <td>NaN</td>\n",
       "      <td>NaN</td>\n",
       "      <td>NaN</td>\n",
       "      <td>NaN</td>\n",
       "      <td>NaN</td>\n",
       "    </tr>\n",
       "    <tr>\n",
       "      <th>Exterior1st</th>\n",
       "      <td>1460</td>\n",
       "      <td>15</td>\n",
       "      <td>VinylSd</td>\n",
       "      <td>515</td>\n",
       "      <td>NaN</td>\n",
       "      <td>NaN</td>\n",
       "      <td>NaN</td>\n",
       "      <td>NaN</td>\n",
       "      <td>NaN</td>\n",
       "      <td>NaN</td>\n",
       "      <td>NaN</td>\n",
       "    </tr>\n",
       "    <tr>\n",
       "      <th>Exterior2nd</th>\n",
       "      <td>1460</td>\n",
       "      <td>16</td>\n",
       "      <td>VinylSd</td>\n",
       "      <td>504</td>\n",
       "      <td>NaN</td>\n",
       "      <td>NaN</td>\n",
       "      <td>NaN</td>\n",
       "      <td>NaN</td>\n",
       "      <td>NaN</td>\n",
       "      <td>NaN</td>\n",
       "      <td>NaN</td>\n",
       "    </tr>\n",
       "    <tr>\n",
       "      <th>MasVnrType</th>\n",
       "      <td>1452</td>\n",
       "      <td>4</td>\n",
       "      <td>None</td>\n",
       "      <td>864</td>\n",
       "      <td>NaN</td>\n",
       "      <td>NaN</td>\n",
       "      <td>NaN</td>\n",
       "      <td>NaN</td>\n",
       "      <td>NaN</td>\n",
       "      <td>NaN</td>\n",
       "      <td>NaN</td>\n",
       "    </tr>\n",
       "    <tr>\n",
       "      <th>MasVnrArea</th>\n",
       "      <td>1452</td>\n",
       "      <td>NaN</td>\n",
       "      <td>NaN</td>\n",
       "      <td>NaN</td>\n",
       "      <td>103.685</td>\n",
       "      <td>181.066</td>\n",
       "      <td>0</td>\n",
       "      <td>0</td>\n",
       "      <td>0</td>\n",
       "      <td>166</td>\n",
       "      <td>1600</td>\n",
       "    </tr>\n",
       "    <tr>\n",
       "      <th>ExterQual</th>\n",
       "      <td>1460</td>\n",
       "      <td>4</td>\n",
       "      <td>TA</td>\n",
       "      <td>906</td>\n",
       "      <td>NaN</td>\n",
       "      <td>NaN</td>\n",
       "      <td>NaN</td>\n",
       "      <td>NaN</td>\n",
       "      <td>NaN</td>\n",
       "      <td>NaN</td>\n",
       "      <td>NaN</td>\n",
       "    </tr>\n",
       "    <tr>\n",
       "      <th>ExterCond</th>\n",
       "      <td>1460</td>\n",
       "      <td>5</td>\n",
       "      <td>TA</td>\n",
       "      <td>1282</td>\n",
       "      <td>NaN</td>\n",
       "      <td>NaN</td>\n",
       "      <td>NaN</td>\n",
       "      <td>NaN</td>\n",
       "      <td>NaN</td>\n",
       "      <td>NaN</td>\n",
       "      <td>NaN</td>\n",
       "    </tr>\n",
       "    <tr>\n",
       "      <th>Foundation</th>\n",
       "      <td>1460</td>\n",
       "      <td>6</td>\n",
       "      <td>PConc</td>\n",
       "      <td>647</td>\n",
       "      <td>NaN</td>\n",
       "      <td>NaN</td>\n",
       "      <td>NaN</td>\n",
       "      <td>NaN</td>\n",
       "      <td>NaN</td>\n",
       "      <td>NaN</td>\n",
       "      <td>NaN</td>\n",
       "    </tr>\n",
       "    <tr>\n",
       "      <th>BsmtQual</th>\n",
       "      <td>1423</td>\n",
       "      <td>4</td>\n",
       "      <td>TA</td>\n",
       "      <td>649</td>\n",
       "      <td>NaN</td>\n",
       "      <td>NaN</td>\n",
       "      <td>NaN</td>\n",
       "      <td>NaN</td>\n",
       "      <td>NaN</td>\n",
       "      <td>NaN</td>\n",
       "      <td>NaN</td>\n",
       "    </tr>\n",
       "    <tr>\n",
       "      <th>BsmtCond</th>\n",
       "      <td>1423</td>\n",
       "      <td>4</td>\n",
       "      <td>TA</td>\n",
       "      <td>1311</td>\n",
       "      <td>NaN</td>\n",
       "      <td>NaN</td>\n",
       "      <td>NaN</td>\n",
       "      <td>NaN</td>\n",
       "      <td>NaN</td>\n",
       "      <td>NaN</td>\n",
       "      <td>NaN</td>\n",
       "    </tr>\n",
       "    <tr>\n",
       "      <th>BsmtExposure</th>\n",
       "      <td>1422</td>\n",
       "      <td>4</td>\n",
       "      <td>No</td>\n",
       "      <td>953</td>\n",
       "      <td>NaN</td>\n",
       "      <td>NaN</td>\n",
       "      <td>NaN</td>\n",
       "      <td>NaN</td>\n",
       "      <td>NaN</td>\n",
       "      <td>NaN</td>\n",
       "      <td>NaN</td>\n",
       "    </tr>\n",
       "    <tr>\n",
       "      <th>BsmtFinType1</th>\n",
       "      <td>1423</td>\n",
       "      <td>6</td>\n",
       "      <td>Unf</td>\n",
       "      <td>430</td>\n",
       "      <td>NaN</td>\n",
       "      <td>NaN</td>\n",
       "      <td>NaN</td>\n",
       "      <td>NaN</td>\n",
       "      <td>NaN</td>\n",
       "      <td>NaN</td>\n",
       "      <td>NaN</td>\n",
       "    </tr>\n",
       "    <tr>\n",
       "      <th>BsmtFinSF1</th>\n",
       "      <td>1460</td>\n",
       "      <td>NaN</td>\n",
       "      <td>NaN</td>\n",
       "      <td>NaN</td>\n",
       "      <td>443.64</td>\n",
       "      <td>456.098</td>\n",
       "      <td>0</td>\n",
       "      <td>0</td>\n",
       "      <td>383.5</td>\n",
       "      <td>712.25</td>\n",
       "      <td>5644</td>\n",
       "    </tr>\n",
       "    <tr>\n",
       "      <th>BsmtFinType2</th>\n",
       "      <td>1422</td>\n",
       "      <td>6</td>\n",
       "      <td>Unf</td>\n",
       "      <td>1256</td>\n",
       "      <td>NaN</td>\n",
       "      <td>NaN</td>\n",
       "      <td>NaN</td>\n",
       "      <td>NaN</td>\n",
       "      <td>NaN</td>\n",
       "      <td>NaN</td>\n",
       "      <td>NaN</td>\n",
       "    </tr>\n",
       "    <tr>\n",
       "      <th>BsmtFinSF2</th>\n",
       "      <td>1460</td>\n",
       "      <td>NaN</td>\n",
       "      <td>NaN</td>\n",
       "      <td>NaN</td>\n",
       "      <td>46.5493</td>\n",
       "      <td>161.319</td>\n",
       "      <td>0</td>\n",
       "      <td>0</td>\n",
       "      <td>0</td>\n",
       "      <td>0</td>\n",
       "      <td>1474</td>\n",
       "    </tr>\n",
       "    <tr>\n",
       "      <th>BsmtUnfSF</th>\n",
       "      <td>1460</td>\n",
       "      <td>NaN</td>\n",
       "      <td>NaN</td>\n",
       "      <td>NaN</td>\n",
       "      <td>567.24</td>\n",
       "      <td>441.867</td>\n",
       "      <td>0</td>\n",
       "      <td>223</td>\n",
       "      <td>477.5</td>\n",
       "      <td>808</td>\n",
       "      <td>2336</td>\n",
       "    </tr>\n",
       "    <tr>\n",
       "      <th>TotalBsmtSF</th>\n",
       "      <td>1460</td>\n",
       "      <td>NaN</td>\n",
       "      <td>NaN</td>\n",
       "      <td>NaN</td>\n",
       "      <td>1057.43</td>\n",
       "      <td>438.705</td>\n",
       "      <td>0</td>\n",
       "      <td>795.75</td>\n",
       "      <td>991.5</td>\n",
       "      <td>1298.25</td>\n",
       "      <td>6110</td>\n",
       "    </tr>\n",
       "    <tr>\n",
       "      <th>Heating</th>\n",
       "      <td>1460</td>\n",
       "      <td>6</td>\n",
       "      <td>GasA</td>\n",
       "      <td>1428</td>\n",
       "      <td>NaN</td>\n",
       "      <td>NaN</td>\n",
       "      <td>NaN</td>\n",
       "      <td>NaN</td>\n",
       "      <td>NaN</td>\n",
       "      <td>NaN</td>\n",
       "      <td>NaN</td>\n",
       "    </tr>\n",
       "    <tr>\n",
       "      <th>HeatingQC</th>\n",
       "      <td>1460</td>\n",
       "      <td>5</td>\n",
       "      <td>Ex</td>\n",
       "      <td>741</td>\n",
       "      <td>NaN</td>\n",
       "      <td>NaN</td>\n",
       "      <td>NaN</td>\n",
       "      <td>NaN</td>\n",
       "      <td>NaN</td>\n",
       "      <td>NaN</td>\n",
       "      <td>NaN</td>\n",
       "    </tr>\n",
       "    <tr>\n",
       "      <th>CentralAir</th>\n",
       "      <td>1460</td>\n",
       "      <td>2</td>\n",
       "      <td>Y</td>\n",
       "      <td>1365</td>\n",
       "      <td>NaN</td>\n",
       "      <td>NaN</td>\n",
       "      <td>NaN</td>\n",
       "      <td>NaN</td>\n",
       "      <td>NaN</td>\n",
       "      <td>NaN</td>\n",
       "      <td>NaN</td>\n",
       "    </tr>\n",
       "    <tr>\n",
       "      <th>Electrical</th>\n",
       "      <td>1459</td>\n",
       "      <td>5</td>\n",
       "      <td>SBrkr</td>\n",
       "      <td>1334</td>\n",
       "      <td>NaN</td>\n",
       "      <td>NaN</td>\n",
       "      <td>NaN</td>\n",
       "      <td>NaN</td>\n",
       "      <td>NaN</td>\n",
       "      <td>NaN</td>\n",
       "      <td>NaN</td>\n",
       "    </tr>\n",
       "    <tr>\n",
       "      <th>1stFlrSF</th>\n",
       "      <td>1460</td>\n",
       "      <td>NaN</td>\n",
       "      <td>NaN</td>\n",
       "      <td>NaN</td>\n",
       "      <td>1162.63</td>\n",
       "      <td>386.588</td>\n",
       "      <td>334</td>\n",
       "      <td>882</td>\n",
       "      <td>1087</td>\n",
       "      <td>1391.25</td>\n",
       "      <td>4692</td>\n",
       "    </tr>\n",
       "    <tr>\n",
       "      <th>2ndFlrSF</th>\n",
       "      <td>1460</td>\n",
       "      <td>NaN</td>\n",
       "      <td>NaN</td>\n",
       "      <td>NaN</td>\n",
       "      <td>346.992</td>\n",
       "      <td>436.528</td>\n",
       "      <td>0</td>\n",
       "      <td>0</td>\n",
       "      <td>0</td>\n",
       "      <td>728</td>\n",
       "      <td>2065</td>\n",
       "    </tr>\n",
       "    <tr>\n",
       "      <th>LowQualFinSF</th>\n",
       "      <td>1460</td>\n",
       "      <td>NaN</td>\n",
       "      <td>NaN</td>\n",
       "      <td>NaN</td>\n",
       "      <td>5.84452</td>\n",
       "      <td>48.6231</td>\n",
       "      <td>0</td>\n",
       "      <td>0</td>\n",
       "      <td>0</td>\n",
       "      <td>0</td>\n",
       "      <td>572</td>\n",
       "    </tr>\n",
       "    <tr>\n",
       "      <th>GrLivArea</th>\n",
       "      <td>1460</td>\n",
       "      <td>NaN</td>\n",
       "      <td>NaN</td>\n",
       "      <td>NaN</td>\n",
       "      <td>1515.46</td>\n",
       "      <td>525.48</td>\n",
       "      <td>334</td>\n",
       "      <td>1129.5</td>\n",
       "      <td>1464</td>\n",
       "      <td>1776.75</td>\n",
       "      <td>5642</td>\n",
       "    </tr>\n",
       "    <tr>\n",
       "      <th>BsmtFullBath</th>\n",
       "      <td>1460</td>\n",
       "      <td>NaN</td>\n",
       "      <td>NaN</td>\n",
       "      <td>NaN</td>\n",
       "      <td>0.425342</td>\n",
       "      <td>0.518911</td>\n",
       "      <td>0</td>\n",
       "      <td>0</td>\n",
       "      <td>0</td>\n",
       "      <td>1</td>\n",
       "      <td>3</td>\n",
       "    </tr>\n",
       "    <tr>\n",
       "      <th>BsmtHalfBath</th>\n",
       "      <td>1460</td>\n",
       "      <td>NaN</td>\n",
       "      <td>NaN</td>\n",
       "      <td>NaN</td>\n",
       "      <td>0.0575342</td>\n",
       "      <td>0.238753</td>\n",
       "      <td>0</td>\n",
       "      <td>0</td>\n",
       "      <td>0</td>\n",
       "      <td>0</td>\n",
       "      <td>2</td>\n",
       "    </tr>\n",
       "    <tr>\n",
       "      <th>FullBath</th>\n",
       "      <td>1460</td>\n",
       "      <td>NaN</td>\n",
       "      <td>NaN</td>\n",
       "      <td>NaN</td>\n",
       "      <td>1.56507</td>\n",
       "      <td>0.550916</td>\n",
       "      <td>0</td>\n",
       "      <td>1</td>\n",
       "      <td>2</td>\n",
       "      <td>2</td>\n",
       "      <td>3</td>\n",
       "    </tr>\n",
       "    <tr>\n",
       "      <th>HalfBath</th>\n",
       "      <td>1460</td>\n",
       "      <td>NaN</td>\n",
       "      <td>NaN</td>\n",
       "      <td>NaN</td>\n",
       "      <td>0.382877</td>\n",
       "      <td>0.502885</td>\n",
       "      <td>0</td>\n",
       "      <td>0</td>\n",
       "      <td>0</td>\n",
       "      <td>1</td>\n",
       "      <td>2</td>\n",
       "    </tr>\n",
       "    <tr>\n",
       "      <th>BedroomAbvGr</th>\n",
       "      <td>1460</td>\n",
       "      <td>NaN</td>\n",
       "      <td>NaN</td>\n",
       "      <td>NaN</td>\n",
       "      <td>2.86644</td>\n",
       "      <td>0.815778</td>\n",
       "      <td>0</td>\n",
       "      <td>2</td>\n",
       "      <td>3</td>\n",
       "      <td>3</td>\n",
       "      <td>8</td>\n",
       "    </tr>\n",
       "    <tr>\n",
       "      <th>KitchenAbvGr</th>\n",
       "      <td>1460</td>\n",
       "      <td>NaN</td>\n",
       "      <td>NaN</td>\n",
       "      <td>NaN</td>\n",
       "      <td>1.04658</td>\n",
       "      <td>0.220338</td>\n",
       "      <td>0</td>\n",
       "      <td>1</td>\n",
       "      <td>1</td>\n",
       "      <td>1</td>\n",
       "      <td>3</td>\n",
       "    </tr>\n",
       "    <tr>\n",
       "      <th>KitchenQual</th>\n",
       "      <td>1460</td>\n",
       "      <td>4</td>\n",
       "      <td>TA</td>\n",
       "      <td>735</td>\n",
       "      <td>NaN</td>\n",
       "      <td>NaN</td>\n",
       "      <td>NaN</td>\n",
       "      <td>NaN</td>\n",
       "      <td>NaN</td>\n",
       "      <td>NaN</td>\n",
       "      <td>NaN</td>\n",
       "    </tr>\n",
       "    <tr>\n",
       "      <th>TotRmsAbvGrd</th>\n",
       "      <td>1460</td>\n",
       "      <td>NaN</td>\n",
       "      <td>NaN</td>\n",
       "      <td>NaN</td>\n",
       "      <td>6.51781</td>\n",
       "      <td>1.62539</td>\n",
       "      <td>2</td>\n",
       "      <td>5</td>\n",
       "      <td>6</td>\n",
       "      <td>7</td>\n",
       "      <td>14</td>\n",
       "    </tr>\n",
       "    <tr>\n",
       "      <th>Functional</th>\n",
       "      <td>1460</td>\n",
       "      <td>7</td>\n",
       "      <td>Typ</td>\n",
       "      <td>1360</td>\n",
       "      <td>NaN</td>\n",
       "      <td>NaN</td>\n",
       "      <td>NaN</td>\n",
       "      <td>NaN</td>\n",
       "      <td>NaN</td>\n",
       "      <td>NaN</td>\n",
       "      <td>NaN</td>\n",
       "    </tr>\n",
       "    <tr>\n",
       "      <th>Fireplaces</th>\n",
       "      <td>1460</td>\n",
       "      <td>NaN</td>\n",
       "      <td>NaN</td>\n",
       "      <td>NaN</td>\n",
       "      <td>0.613014</td>\n",
       "      <td>0.644666</td>\n",
       "      <td>0</td>\n",
       "      <td>0</td>\n",
       "      <td>1</td>\n",
       "      <td>1</td>\n",
       "      <td>3</td>\n",
       "    </tr>\n",
       "    <tr>\n",
       "      <th>FireplaceQu</th>\n",
       "      <td>770</td>\n",
       "      <td>5</td>\n",
       "      <td>Gd</td>\n",
       "      <td>380</td>\n",
       "      <td>NaN</td>\n",
       "      <td>NaN</td>\n",
       "      <td>NaN</td>\n",
       "      <td>NaN</td>\n",
       "      <td>NaN</td>\n",
       "      <td>NaN</td>\n",
       "      <td>NaN</td>\n",
       "    </tr>\n",
       "    <tr>\n",
       "      <th>GarageType</th>\n",
       "      <td>1379</td>\n",
       "      <td>6</td>\n",
       "      <td>Attchd</td>\n",
       "      <td>870</td>\n",
       "      <td>NaN</td>\n",
       "      <td>NaN</td>\n",
       "      <td>NaN</td>\n",
       "      <td>NaN</td>\n",
       "      <td>NaN</td>\n",
       "      <td>NaN</td>\n",
       "      <td>NaN</td>\n",
       "    </tr>\n",
       "    <tr>\n",
       "      <th>GarageYrBlt</th>\n",
       "      <td>1379</td>\n",
       "      <td>NaN</td>\n",
       "      <td>NaN</td>\n",
       "      <td>NaN</td>\n",
       "      <td>1978.51</td>\n",
       "      <td>24.6897</td>\n",
       "      <td>1900</td>\n",
       "      <td>1961</td>\n",
       "      <td>1980</td>\n",
       "      <td>2002</td>\n",
       "      <td>2010</td>\n",
       "    </tr>\n",
       "    <tr>\n",
       "      <th>GarageFinish</th>\n",
       "      <td>1379</td>\n",
       "      <td>3</td>\n",
       "      <td>Unf</td>\n",
       "      <td>605</td>\n",
       "      <td>NaN</td>\n",
       "      <td>NaN</td>\n",
       "      <td>NaN</td>\n",
       "      <td>NaN</td>\n",
       "      <td>NaN</td>\n",
       "      <td>NaN</td>\n",
       "      <td>NaN</td>\n",
       "    </tr>\n",
       "    <tr>\n",
       "      <th>GarageCars</th>\n",
       "      <td>1460</td>\n",
       "      <td>NaN</td>\n",
       "      <td>NaN</td>\n",
       "      <td>NaN</td>\n",
       "      <td>1.76712</td>\n",
       "      <td>0.747315</td>\n",
       "      <td>0</td>\n",
       "      <td>1</td>\n",
       "      <td>2</td>\n",
       "      <td>2</td>\n",
       "      <td>4</td>\n",
       "    </tr>\n",
       "    <tr>\n",
       "      <th>GarageArea</th>\n",
       "      <td>1460</td>\n",
       "      <td>NaN</td>\n",
       "      <td>NaN</td>\n",
       "      <td>NaN</td>\n",
       "      <td>472.98</td>\n",
       "      <td>213.805</td>\n",
       "      <td>0</td>\n",
       "      <td>334.5</td>\n",
       "      <td>480</td>\n",
       "      <td>576</td>\n",
       "      <td>1418</td>\n",
       "    </tr>\n",
       "    <tr>\n",
       "      <th>GarageQual</th>\n",
       "      <td>1379</td>\n",
       "      <td>5</td>\n",
       "      <td>TA</td>\n",
       "      <td>1311</td>\n",
       "      <td>NaN</td>\n",
       "      <td>NaN</td>\n",
       "      <td>NaN</td>\n",
       "      <td>NaN</td>\n",
       "      <td>NaN</td>\n",
       "      <td>NaN</td>\n",
       "      <td>NaN</td>\n",
       "    </tr>\n",
       "    <tr>\n",
       "      <th>GarageCond</th>\n",
       "      <td>1379</td>\n",
       "      <td>5</td>\n",
       "      <td>TA</td>\n",
       "      <td>1326</td>\n",
       "      <td>NaN</td>\n",
       "      <td>NaN</td>\n",
       "      <td>NaN</td>\n",
       "      <td>NaN</td>\n",
       "      <td>NaN</td>\n",
       "      <td>NaN</td>\n",
       "      <td>NaN</td>\n",
       "    </tr>\n",
       "    <tr>\n",
       "      <th>PavedDrive</th>\n",
       "      <td>1460</td>\n",
       "      <td>3</td>\n",
       "      <td>Y</td>\n",
       "      <td>1340</td>\n",
       "      <td>NaN</td>\n",
       "      <td>NaN</td>\n",
       "      <td>NaN</td>\n",
       "      <td>NaN</td>\n",
       "      <td>NaN</td>\n",
       "      <td>NaN</td>\n",
       "      <td>NaN</td>\n",
       "    </tr>\n",
       "    <tr>\n",
       "      <th>WoodDeckSF</th>\n",
       "      <td>1460</td>\n",
       "      <td>NaN</td>\n",
       "      <td>NaN</td>\n",
       "      <td>NaN</td>\n",
       "      <td>94.2445</td>\n",
       "      <td>125.339</td>\n",
       "      <td>0</td>\n",
       "      <td>0</td>\n",
       "      <td>0</td>\n",
       "      <td>168</td>\n",
       "      <td>857</td>\n",
       "    </tr>\n",
       "    <tr>\n",
       "      <th>OpenPorchSF</th>\n",
       "      <td>1460</td>\n",
       "      <td>NaN</td>\n",
       "      <td>NaN</td>\n",
       "      <td>NaN</td>\n",
       "      <td>46.6603</td>\n",
       "      <td>66.256</td>\n",
       "      <td>0</td>\n",
       "      <td>0</td>\n",
       "      <td>25</td>\n",
       "      <td>68</td>\n",
       "      <td>547</td>\n",
       "    </tr>\n",
       "    <tr>\n",
       "      <th>EnclosedPorch</th>\n",
       "      <td>1460</td>\n",
       "      <td>NaN</td>\n",
       "      <td>NaN</td>\n",
       "      <td>NaN</td>\n",
       "      <td>21.9541</td>\n",
       "      <td>61.1191</td>\n",
       "      <td>0</td>\n",
       "      <td>0</td>\n",
       "      <td>0</td>\n",
       "      <td>0</td>\n",
       "      <td>552</td>\n",
       "    </tr>\n",
       "    <tr>\n",
       "      <th>3SsnPorch</th>\n",
       "      <td>1460</td>\n",
       "      <td>NaN</td>\n",
       "      <td>NaN</td>\n",
       "      <td>NaN</td>\n",
       "      <td>3.40959</td>\n",
       "      <td>29.3173</td>\n",
       "      <td>0</td>\n",
       "      <td>0</td>\n",
       "      <td>0</td>\n",
       "      <td>0</td>\n",
       "      <td>508</td>\n",
       "    </tr>\n",
       "    <tr>\n",
       "      <th>ScreenPorch</th>\n",
       "      <td>1460</td>\n",
       "      <td>NaN</td>\n",
       "      <td>NaN</td>\n",
       "      <td>NaN</td>\n",
       "      <td>15.061</td>\n",
       "      <td>55.7574</td>\n",
       "      <td>0</td>\n",
       "      <td>0</td>\n",
       "      <td>0</td>\n",
       "      <td>0</td>\n",
       "      <td>480</td>\n",
       "    </tr>\n",
       "    <tr>\n",
       "      <th>PoolArea</th>\n",
       "      <td>1460</td>\n",
       "      <td>NaN</td>\n",
       "      <td>NaN</td>\n",
       "      <td>NaN</td>\n",
       "      <td>2.7589</td>\n",
       "      <td>40.1773</td>\n",
       "      <td>0</td>\n",
       "      <td>0</td>\n",
       "      <td>0</td>\n",
       "      <td>0</td>\n",
       "      <td>738</td>\n",
       "    </tr>\n",
       "    <tr>\n",
       "      <th>PoolQC</th>\n",
       "      <td>7</td>\n",
       "      <td>3</td>\n",
       "      <td>Gd</td>\n",
       "      <td>3</td>\n",
       "      <td>NaN</td>\n",
       "      <td>NaN</td>\n",
       "      <td>NaN</td>\n",
       "      <td>NaN</td>\n",
       "      <td>NaN</td>\n",
       "      <td>NaN</td>\n",
       "      <td>NaN</td>\n",
       "    </tr>\n",
       "    <tr>\n",
       "      <th>Fence</th>\n",
       "      <td>281</td>\n",
       "      <td>4</td>\n",
       "      <td>MnPrv</td>\n",
       "      <td>157</td>\n",
       "      <td>NaN</td>\n",
       "      <td>NaN</td>\n",
       "      <td>NaN</td>\n",
       "      <td>NaN</td>\n",
       "      <td>NaN</td>\n",
       "      <td>NaN</td>\n",
       "      <td>NaN</td>\n",
       "    </tr>\n",
       "    <tr>\n",
       "      <th>MiscFeature</th>\n",
       "      <td>54</td>\n",
       "      <td>4</td>\n",
       "      <td>Shed</td>\n",
       "      <td>49</td>\n",
       "      <td>NaN</td>\n",
       "      <td>NaN</td>\n",
       "      <td>NaN</td>\n",
       "      <td>NaN</td>\n",
       "      <td>NaN</td>\n",
       "      <td>NaN</td>\n",
       "      <td>NaN</td>\n",
       "    </tr>\n",
       "    <tr>\n",
       "      <th>MiscVal</th>\n",
       "      <td>1460</td>\n",
       "      <td>NaN</td>\n",
       "      <td>NaN</td>\n",
       "      <td>NaN</td>\n",
       "      <td>43.489</td>\n",
       "      <td>496.123</td>\n",
       "      <td>0</td>\n",
       "      <td>0</td>\n",
       "      <td>0</td>\n",
       "      <td>0</td>\n",
       "      <td>15500</td>\n",
       "    </tr>\n",
       "    <tr>\n",
       "      <th>MoSold</th>\n",
       "      <td>1460</td>\n",
       "      <td>NaN</td>\n",
       "      <td>NaN</td>\n",
       "      <td>NaN</td>\n",
       "      <td>6.32192</td>\n",
       "      <td>2.70363</td>\n",
       "      <td>1</td>\n",
       "      <td>5</td>\n",
       "      <td>6</td>\n",
       "      <td>8</td>\n",
       "      <td>12</td>\n",
       "    </tr>\n",
       "    <tr>\n",
       "      <th>YrSold</th>\n",
       "      <td>1460</td>\n",
       "      <td>NaN</td>\n",
       "      <td>NaN</td>\n",
       "      <td>NaN</td>\n",
       "      <td>2007.82</td>\n",
       "      <td>1.3281</td>\n",
       "      <td>2006</td>\n",
       "      <td>2007</td>\n",
       "      <td>2008</td>\n",
       "      <td>2009</td>\n",
       "      <td>2010</td>\n",
       "    </tr>\n",
       "    <tr>\n",
       "      <th>SaleType</th>\n",
       "      <td>1460</td>\n",
       "      <td>9</td>\n",
       "      <td>WD</td>\n",
       "      <td>1267</td>\n",
       "      <td>NaN</td>\n",
       "      <td>NaN</td>\n",
       "      <td>NaN</td>\n",
       "      <td>NaN</td>\n",
       "      <td>NaN</td>\n",
       "      <td>NaN</td>\n",
       "      <td>NaN</td>\n",
       "    </tr>\n",
       "    <tr>\n",
       "      <th>SaleCondition</th>\n",
       "      <td>1460</td>\n",
       "      <td>6</td>\n",
       "      <td>Normal</td>\n",
       "      <td>1198</td>\n",
       "      <td>NaN</td>\n",
       "      <td>NaN</td>\n",
       "      <td>NaN</td>\n",
       "      <td>NaN</td>\n",
       "      <td>NaN</td>\n",
       "      <td>NaN</td>\n",
       "      <td>NaN</td>\n",
       "    </tr>\n",
       "    <tr>\n",
       "      <th>SalePrice</th>\n",
       "      <td>1460</td>\n",
       "      <td>NaN</td>\n",
       "      <td>NaN</td>\n",
       "      <td>NaN</td>\n",
       "      <td>180921</td>\n",
       "      <td>79442.5</td>\n",
       "      <td>34900</td>\n",
       "      <td>129975</td>\n",
       "      <td>163000</td>\n",
       "      <td>214000</td>\n",
       "      <td>755000</td>\n",
       "    </tr>\n",
       "  </tbody>\n",
       "</table>\n",
       "</div>"
      ],
      "text/plain": [
       "              count unique      top  freq       mean       std    min     25%  \\\n",
       "Id             1460    NaN      NaN   NaN      730.5    421.61      1  365.75   \n",
       "MSSubClass     1460    NaN      NaN   NaN    56.8973   42.3006     20      20   \n",
       "MSZoning       1460      5       RL  1151        NaN       NaN    NaN     NaN   \n",
       "LotFrontage    1201    NaN      NaN   NaN      70.05   24.2848     21      59   \n",
       "LotArea        1460    NaN      NaN   NaN    10516.8   9981.26   1300  7553.5   \n",
       "Street         1460      2     Pave  1454        NaN       NaN    NaN     NaN   \n",
       "Alley            91      2     Grvl    50        NaN       NaN    NaN     NaN   \n",
       "LotShape       1460      4      Reg   925        NaN       NaN    NaN     NaN   \n",
       "LandContour    1460      4      Lvl  1311        NaN       NaN    NaN     NaN   \n",
       "Utilities      1460      2   AllPub  1459        NaN       NaN    NaN     NaN   \n",
       "LotConfig      1460      5   Inside  1052        NaN       NaN    NaN     NaN   \n",
       "LandSlope      1460      3      Gtl  1382        NaN       NaN    NaN     NaN   \n",
       "Neighborhood   1460     25    NAmes   225        NaN       NaN    NaN     NaN   \n",
       "Condition1     1460      9     Norm  1260        NaN       NaN    NaN     NaN   \n",
       "Condition2     1460      8     Norm  1445        NaN       NaN    NaN     NaN   \n",
       "BldgType       1460      5     1Fam  1220        NaN       NaN    NaN     NaN   \n",
       "HouseStyle     1460      8   1Story   726        NaN       NaN    NaN     NaN   \n",
       "OverallQual    1460    NaN      NaN   NaN    6.09932     1.383      1       5   \n",
       "OverallCond    1460    NaN      NaN   NaN    5.57534    1.1128      1       5   \n",
       "YearBuilt      1460    NaN      NaN   NaN    1971.27   30.2029   1872    1954   \n",
       "YearRemodAdd   1460    NaN      NaN   NaN    1984.87   20.6454   1950    1967   \n",
       "RoofStyle      1460      6    Gable  1141        NaN       NaN    NaN     NaN   \n",
       "RoofMatl       1460      8  CompShg  1434        NaN       NaN    NaN     NaN   \n",
       "Exterior1st    1460     15  VinylSd   515        NaN       NaN    NaN     NaN   \n",
       "Exterior2nd    1460     16  VinylSd   504        NaN       NaN    NaN     NaN   \n",
       "MasVnrType     1452      4     None   864        NaN       NaN    NaN     NaN   \n",
       "MasVnrArea     1452    NaN      NaN   NaN    103.685   181.066      0       0   \n",
       "ExterQual      1460      4       TA   906        NaN       NaN    NaN     NaN   \n",
       "ExterCond      1460      5       TA  1282        NaN       NaN    NaN     NaN   \n",
       "Foundation     1460      6    PConc   647        NaN       NaN    NaN     NaN   \n",
       "BsmtQual       1423      4       TA   649        NaN       NaN    NaN     NaN   \n",
       "BsmtCond       1423      4       TA  1311        NaN       NaN    NaN     NaN   \n",
       "BsmtExposure   1422      4       No   953        NaN       NaN    NaN     NaN   \n",
       "BsmtFinType1   1423      6      Unf   430        NaN       NaN    NaN     NaN   \n",
       "BsmtFinSF1     1460    NaN      NaN   NaN     443.64   456.098      0       0   \n",
       "BsmtFinType2   1422      6      Unf  1256        NaN       NaN    NaN     NaN   \n",
       "BsmtFinSF2     1460    NaN      NaN   NaN    46.5493   161.319      0       0   \n",
       "BsmtUnfSF      1460    NaN      NaN   NaN     567.24   441.867      0     223   \n",
       "TotalBsmtSF    1460    NaN      NaN   NaN    1057.43   438.705      0  795.75   \n",
       "Heating        1460      6     GasA  1428        NaN       NaN    NaN     NaN   \n",
       "HeatingQC      1460      5       Ex   741        NaN       NaN    NaN     NaN   \n",
       "CentralAir     1460      2        Y  1365        NaN       NaN    NaN     NaN   \n",
       "Electrical     1459      5    SBrkr  1334        NaN       NaN    NaN     NaN   \n",
       "1stFlrSF       1460    NaN      NaN   NaN    1162.63   386.588    334     882   \n",
       "2ndFlrSF       1460    NaN      NaN   NaN    346.992   436.528      0       0   \n",
       "LowQualFinSF   1460    NaN      NaN   NaN    5.84452   48.6231      0       0   \n",
       "GrLivArea      1460    NaN      NaN   NaN    1515.46    525.48    334  1129.5   \n",
       "BsmtFullBath   1460    NaN      NaN   NaN   0.425342  0.518911      0       0   \n",
       "BsmtHalfBath   1460    NaN      NaN   NaN  0.0575342  0.238753      0       0   \n",
       "FullBath       1460    NaN      NaN   NaN    1.56507  0.550916      0       1   \n",
       "HalfBath       1460    NaN      NaN   NaN   0.382877  0.502885      0       0   \n",
       "BedroomAbvGr   1460    NaN      NaN   NaN    2.86644  0.815778      0       2   \n",
       "KitchenAbvGr   1460    NaN      NaN   NaN    1.04658  0.220338      0       1   \n",
       "KitchenQual    1460      4       TA   735        NaN       NaN    NaN     NaN   \n",
       "TotRmsAbvGrd   1460    NaN      NaN   NaN    6.51781   1.62539      2       5   \n",
       "Functional     1460      7      Typ  1360        NaN       NaN    NaN     NaN   \n",
       "Fireplaces     1460    NaN      NaN   NaN   0.613014  0.644666      0       0   \n",
       "FireplaceQu     770      5       Gd   380        NaN       NaN    NaN     NaN   \n",
       "GarageType     1379      6   Attchd   870        NaN       NaN    NaN     NaN   \n",
       "GarageYrBlt    1379    NaN      NaN   NaN    1978.51   24.6897   1900    1961   \n",
       "GarageFinish   1379      3      Unf   605        NaN       NaN    NaN     NaN   \n",
       "GarageCars     1460    NaN      NaN   NaN    1.76712  0.747315      0       1   \n",
       "GarageArea     1460    NaN      NaN   NaN     472.98   213.805      0   334.5   \n",
       "GarageQual     1379      5       TA  1311        NaN       NaN    NaN     NaN   \n",
       "GarageCond     1379      5       TA  1326        NaN       NaN    NaN     NaN   \n",
       "PavedDrive     1460      3        Y  1340        NaN       NaN    NaN     NaN   \n",
       "WoodDeckSF     1460    NaN      NaN   NaN    94.2445   125.339      0       0   \n",
       "OpenPorchSF    1460    NaN      NaN   NaN    46.6603    66.256      0       0   \n",
       "EnclosedPorch  1460    NaN      NaN   NaN    21.9541   61.1191      0       0   \n",
       "3SsnPorch      1460    NaN      NaN   NaN    3.40959   29.3173      0       0   \n",
       "ScreenPorch    1460    NaN      NaN   NaN     15.061   55.7574      0       0   \n",
       "PoolArea       1460    NaN      NaN   NaN     2.7589   40.1773      0       0   \n",
       "PoolQC            7      3       Gd     3        NaN       NaN    NaN     NaN   \n",
       "Fence           281      4    MnPrv   157        NaN       NaN    NaN     NaN   \n",
       "MiscFeature      54      4     Shed    49        NaN       NaN    NaN     NaN   \n",
       "MiscVal        1460    NaN      NaN   NaN     43.489   496.123      0       0   \n",
       "MoSold         1460    NaN      NaN   NaN    6.32192   2.70363      1       5   \n",
       "YrSold         1460    NaN      NaN   NaN    2007.82    1.3281   2006    2007   \n",
       "SaleType       1460      9       WD  1267        NaN       NaN    NaN     NaN   \n",
       "SaleCondition  1460      6   Normal  1198        NaN       NaN    NaN     NaN   \n",
       "SalePrice      1460    NaN      NaN   NaN     180921   79442.5  34900  129975   \n",
       "\n",
       "                  50%      75%     max  \n",
       "Id              730.5  1095.25    1460  \n",
       "MSSubClass         50       70     190  \n",
       "MSZoning          NaN      NaN     NaN  \n",
       "LotFrontage        69       80     313  \n",
       "LotArea        9478.5  11601.5  215245  \n",
       "Street            NaN      NaN     NaN  \n",
       "Alley             NaN      NaN     NaN  \n",
       "LotShape          NaN      NaN     NaN  \n",
       "LandContour       NaN      NaN     NaN  \n",
       "Utilities         NaN      NaN     NaN  \n",
       "LotConfig         NaN      NaN     NaN  \n",
       "LandSlope         NaN      NaN     NaN  \n",
       "Neighborhood      NaN      NaN     NaN  \n",
       "Condition1        NaN      NaN     NaN  \n",
       "Condition2        NaN      NaN     NaN  \n",
       "BldgType          NaN      NaN     NaN  \n",
       "HouseStyle        NaN      NaN     NaN  \n",
       "OverallQual         6        7      10  \n",
       "OverallCond         5        6       9  \n",
       "YearBuilt        1973     2000    2010  \n",
       "YearRemodAdd     1994     2004    2010  \n",
       "RoofStyle         NaN      NaN     NaN  \n",
       "RoofMatl          NaN      NaN     NaN  \n",
       "Exterior1st       NaN      NaN     NaN  \n",
       "Exterior2nd       NaN      NaN     NaN  \n",
       "MasVnrType        NaN      NaN     NaN  \n",
       "MasVnrArea          0      166    1600  \n",
       "ExterQual         NaN      NaN     NaN  \n",
       "ExterCond         NaN      NaN     NaN  \n",
       "Foundation        NaN      NaN     NaN  \n",
       "BsmtQual          NaN      NaN     NaN  \n",
       "BsmtCond          NaN      NaN     NaN  \n",
       "BsmtExposure      NaN      NaN     NaN  \n",
       "BsmtFinType1      NaN      NaN     NaN  \n",
       "BsmtFinSF1      383.5   712.25    5644  \n",
       "BsmtFinType2      NaN      NaN     NaN  \n",
       "BsmtFinSF2          0        0    1474  \n",
       "BsmtUnfSF       477.5      808    2336  \n",
       "TotalBsmtSF     991.5  1298.25    6110  \n",
       "Heating           NaN      NaN     NaN  \n",
       "HeatingQC         NaN      NaN     NaN  \n",
       "CentralAir        NaN      NaN     NaN  \n",
       "Electrical        NaN      NaN     NaN  \n",
       "1stFlrSF         1087  1391.25    4692  \n",
       "2ndFlrSF            0      728    2065  \n",
       "LowQualFinSF        0        0     572  \n",
       "GrLivArea        1464  1776.75    5642  \n",
       "BsmtFullBath        0        1       3  \n",
       "BsmtHalfBath        0        0       2  \n",
       "FullBath            2        2       3  \n",
       "HalfBath            0        1       2  \n",
       "BedroomAbvGr        3        3       8  \n",
       "KitchenAbvGr        1        1       3  \n",
       "KitchenQual       NaN      NaN     NaN  \n",
       "TotRmsAbvGrd        6        7      14  \n",
       "Functional        NaN      NaN     NaN  \n",
       "Fireplaces          1        1       3  \n",
       "FireplaceQu       NaN      NaN     NaN  \n",
       "GarageType        NaN      NaN     NaN  \n",
       "GarageYrBlt      1980     2002    2010  \n",
       "GarageFinish      NaN      NaN     NaN  \n",
       "GarageCars          2        2       4  \n",
       "GarageArea        480      576    1418  \n",
       "GarageQual        NaN      NaN     NaN  \n",
       "GarageCond        NaN      NaN     NaN  \n",
       "PavedDrive        NaN      NaN     NaN  \n",
       "WoodDeckSF          0      168     857  \n",
       "OpenPorchSF        25       68     547  \n",
       "EnclosedPorch       0        0     552  \n",
       "3SsnPorch           0        0     508  \n",
       "ScreenPorch         0        0     480  \n",
       "PoolArea            0        0     738  \n",
       "PoolQC            NaN      NaN     NaN  \n",
       "Fence             NaN      NaN     NaN  \n",
       "MiscFeature       NaN      NaN     NaN  \n",
       "MiscVal             0        0   15500  \n",
       "MoSold              6        8      12  \n",
       "YrSold           2008     2009    2010  \n",
       "SaleType          NaN      NaN     NaN  \n",
       "SaleCondition     NaN      NaN     NaN  \n",
       "SalePrice      163000   214000  755000  "
      ]
     },
     "metadata": {},
     "output_type": "display_data"
    }
   ],
   "source": [
    "display_all(df_raw.describe(include='all').T)"
   ]
  },
  {
   "cell_type": "markdown",
   "metadata": {},
   "source": [
    "It's important to note what metric is being used for a project. Generally, selecting the metric(s) is an important part of the project setup. However, in this case Kaggle tells us what metric to use: RMSLE (root mean squared log error) between the actual and predicted auction prices. Therefore we take the log of the prices, so that RMSE will give us what we need."
   ]
  },
  {
   "cell_type": "code",
   "execution_count": 117,
   "metadata": {},
   "outputs": [
    {
     "data": {
      "text/plain": [
       "<matplotlib.axes._subplots.AxesSubplot at 0x11c046b9908>"
      ]
     },
     "execution_count": 117,
     "metadata": {},
     "output_type": "execute_result"
    },
    {
     "data": {
      "image/png": "[encoded data removed]",
      "text/plain": [
       "<Figure size 432x288 with 1 Axes>"
      ]
     },
     "metadata": {
      "needs_background": "light"
     },
     "output_type": "display_data"
    }
   ],
   "source": [
    "df_raw.describe(include='all').T[['unique']].plot.barh()"
   ]
  },
  {
   "cell_type": "code",
   "execution_count": 118,
   "metadata": {},
   "outputs": [],
   "source": [
    "df_raw.SalePrice = np.log(df_raw.SalePrice)"
   ]
  },
  {
   "cell_type": "markdown",
   "metadata": {},
   "source": [
    "### Initial processing"
   ]
  },
  {
   "cell_type": "code",
   "execution_count": 119,
   "metadata": {},
   "outputs": [],
   "source": [
    "train_cats(df_raw)"
   ]
  },
  {
   "cell_type": "markdown",
   "metadata": {},
   "source": [
    "We're still not quite done - for instance we have lots of missing values, which we can't pass directly to a random forest."
   ]
  },
  {
   "cell_type": "code",
   "execution_count": 120,
   "metadata": {},
   "outputs": [
    {
     "data": {
      "text/plain": [
       "1stFlrSF         0.000000\n",
       "2ndFlrSF         0.000000\n",
       "3SsnPorch        0.000000\n",
       "Alley            0.937671\n",
       "BedroomAbvGr     0.000000\n",
       "BldgType         0.000000\n",
       "BsmtCond         0.025342\n",
       "BsmtExposure     0.026027\n",
       "BsmtFinSF1       0.000000\n",
       "BsmtFinSF2       0.000000\n",
       "BsmtFinType1     0.025342\n",
       "BsmtFinType2     0.026027\n",
       "BsmtFullBath     0.000000\n",
       "BsmtHalfBath     0.000000\n",
       "BsmtQual         0.025342\n",
       "BsmtUnfSF        0.000000\n",
       "CentralAir       0.000000\n",
       "Condition1       0.000000\n",
       "Condition2       0.000000\n",
       "Electrical       0.000685\n",
       "EnclosedPorch    0.000000\n",
       "ExterCond        0.000000\n",
       "ExterQual        0.000000\n",
       "Exterior1st      0.000000\n",
       "Exterior2nd      0.000000\n",
       "Fence            0.807534\n",
       "FireplaceQu      0.472603\n",
       "Fireplaces       0.000000\n",
       "Foundation       0.000000\n",
       "FullBath         0.000000\n",
       "Functional       0.000000\n",
       "GarageArea       0.000000\n",
       "GarageCars       0.000000\n",
       "GarageCond       0.055479\n",
       "GarageFinish     0.055479\n",
       "GarageQual       0.055479\n",
       "GarageType       0.055479\n",
       "GarageYrBlt      0.055479\n",
       "GrLivArea        0.000000\n",
       "HalfBath         0.000000\n",
       "Heating          0.000000\n",
       "HeatingQC        0.000000\n",
       "HouseStyle       0.000000\n",
       "Id               0.000000\n",
       "KitchenAbvGr     0.000000\n",
       "KitchenQual      0.000000\n",
       "LandContour      0.000000\n",
       "LandSlope        0.000000\n",
       "LotArea          0.000000\n",
       "LotConfig        0.000000\n",
       "LotFrontage      0.177397\n",
       "LotShape         0.000000\n",
       "LowQualFinSF     0.000000\n",
       "MSSubClass       0.000000\n",
       "MSZoning         0.000000\n",
       "MasVnrArea       0.005479\n",
       "MasVnrType       0.005479\n",
       "MiscFeature      0.963014\n",
       "MiscVal          0.000000\n",
       "MoSold           0.000000\n",
       "Neighborhood     0.000000\n",
       "OpenPorchSF      0.000000\n",
       "OverallCond      0.000000\n",
       "OverallQual      0.000000\n",
       "PavedDrive       0.000000\n",
       "PoolArea         0.000000\n",
       "PoolQC           0.995205\n",
       "RoofMatl         0.000000\n",
       "RoofStyle        0.000000\n",
       "SaleCondition    0.000000\n",
       "SalePrice        0.000000\n",
       "SaleType         0.000000\n",
       "ScreenPorch      0.000000\n",
       "Street           0.000000\n",
       "TotRmsAbvGrd     0.000000\n",
       "TotalBsmtSF      0.000000\n",
       "Utilities        0.000000\n",
       "WoodDeckSF       0.000000\n",
       "YearBuilt        0.000000\n",
       "YearRemodAdd     0.000000\n",
       "YrSold           0.000000\n",
       "dtype: float64"
      ]
     },
     "metadata": {},
     "output_type": "display_data"
    }
   ],
   "source": [
    "display_all(df_raw.isnull().sum().sort_index()/len(df_raw))"
   ]
  },
  {
   "cell_type": "markdown",
   "metadata": {},
   "source": [
    "But let's save this file for now, since it's already in format can we be stored and accessed efficiently."
   ]
  },
  {
   "cell_type": "code",
   "execution_count": 121,
   "metadata": {},
   "outputs": [
    {
     "ename": "ArrowIOError",
     "evalue": "Failed to open local file 'tmp/houseprices-raw', error: The requested operation cannot be performed on a file with a user-mapped section open.\r\n",
     "output_type": "error",
     "traceback": [
      "\u001b[1;31m---------------------------------------------------------------------------\u001b[0m",
      "\u001b[1;31mArrowIOError\u001b[0m                              Traceback (most recent call last)",
      "\u001b[1;32m<ipython-input-121-85db71257c5f>\u001b[0m in \u001b[0;36m<module>\u001b[1;34m\u001b[0m\n\u001b[0;32m      1\u001b[0m \u001b[0mos\u001b[0m\u001b[1;33m.\u001b[0m\u001b[0mmakedirs\u001b[0m\u001b[1;33m(\u001b[0m\u001b[1;34m'tmp'\u001b[0m\u001b[1;33m,\u001b[0m \u001b[0mexist_ok\u001b[0m\u001b[1;33m=\u001b[0m\u001b[1;32mTrue\u001b[0m\u001b[1;33m)\u001b[0m\u001b[1;33m\u001b[0m\u001b[1;33m\u001b[0m\u001b[0m\n\u001b[1;32m----> 2\u001b[1;33m \u001b[0mdf_raw\u001b[0m\u001b[1;33m.\u001b[0m\u001b[0mto_feather\u001b[0m\u001b[1;33m(\u001b[0m\u001b[1;34m'tmp/houseprices-raw'\u001b[0m\u001b[1;33m)\u001b[0m\u001b[1;33m\u001b[0m\u001b[1;33m\u001b[0m\u001b[0m\n\u001b[0m",
      "\u001b[1;32mc:\\python\\lib\\site-packages\\pandas\\core\\frame.py\u001b[0m in \u001b[0;36mto_feather\u001b[1;34m(self, fname)\u001b[0m\n\u001b[0;32m   2150\u001b[0m         \u001b[1;32mfrom\u001b[0m \u001b[0mpandas\u001b[0m\u001b[1;33m.\u001b[0m\u001b[0mio\u001b[0m\u001b[1;33m.\u001b[0m\u001b[0mfeather_format\u001b[0m \u001b[1;32mimport\u001b[0m \u001b[0mto_feather\u001b[0m\u001b[1;33m\u001b[0m\u001b[1;33m\u001b[0m\u001b[0m\n\u001b[0;32m   2151\u001b[0m \u001b[1;33m\u001b[0m\u001b[0m\n\u001b[1;32m-> 2152\u001b[1;33m         \u001b[0mto_feather\u001b[0m\u001b[1;33m(\u001b[0m\u001b[0mself\u001b[0m\u001b[1;33m,\u001b[0m \u001b[0mfname\u001b[0m\u001b[1;33m)\u001b[0m\u001b[1;33m\u001b[0m\u001b[1;33m\u001b[0m\u001b[0m\n\u001b[0m\u001b[0;32m   2153\u001b[0m \u001b[1;33m\u001b[0m\u001b[0m\n\u001b[0;32m   2154\u001b[0m     def to_parquet(\n",
      "\u001b[1;32mc:\\python\\lib\\site-packages\\pandas\\io\\feather_format.py\u001b[0m in \u001b[0;36mto_feather\u001b[1;34m(df, path)\u001b[0m\n\u001b[0;32m     64\u001b[0m         \u001b[1;32mraise\u001b[0m \u001b[0mValueError\u001b[0m\u001b[1;33m(\u001b[0m\u001b[1;34m\"feather must have string column names\"\u001b[0m\u001b[1;33m)\u001b[0m\u001b[1;33m\u001b[0m\u001b[1;33m\u001b[0m\u001b[0m\n\u001b[0;32m     65\u001b[0m \u001b[1;33m\u001b[0m\u001b[0m\n\u001b[1;32m---> 66\u001b[1;33m     \u001b[0mfeather\u001b[0m\u001b[1;33m.\u001b[0m\u001b[0mwrite_feather\u001b[0m\u001b[1;33m(\u001b[0m\u001b[0mdf\u001b[0m\u001b[1;33m,\u001b[0m \u001b[0mpath\u001b[0m\u001b[1;33m)\u001b[0m\u001b[1;33m\u001b[0m\u001b[1;33m\u001b[0m\u001b[0m\n\u001b[0m\u001b[0;32m     67\u001b[0m \u001b[1;33m\u001b[0m\u001b[0m\n\u001b[0;32m     68\u001b[0m \u001b[1;33m\u001b[0m\u001b[0m\n",
      "\u001b[1;32mc:\\python\\lib\\site-packages\\pyarrow\\feather.py\u001b[0m in \u001b[0;36mwrite_feather\u001b[1;34m(df, dest)\u001b[0m\n\u001b[0;32m    179\u001b[0m         \u001b[0mLocal\u001b[0m \u001b[0mfile\u001b[0m \u001b[0mpath\u001b[0m\u001b[1;33m\u001b[0m\u001b[1;33m\u001b[0m\u001b[0m\n\u001b[0;32m    180\u001b[0m     \"\"\"\n\u001b[1;32m--> 181\u001b[1;33m     \u001b[0mwriter\u001b[0m \u001b[1;33m=\u001b[0m \u001b[0mFeatherWriter\u001b[0m\u001b[1;33m(\u001b[0m\u001b[0mdest\u001b[0m\u001b[1;33m)\u001b[0m\u001b[1;33m\u001b[0m\u001b[1;33m\u001b[0m\u001b[0m\n\u001b[0m\u001b[0;32m    182\u001b[0m     \u001b[1;32mtry\u001b[0m\u001b[1;33m:\u001b[0m\u001b[1;33m\u001b[0m\u001b[1;33m\u001b[0m\u001b[0m\n\u001b[0;32m    183\u001b[0m         \u001b[0mwriter\u001b[0m\u001b[1;33m.\u001b[0m\u001b[0mwrite\u001b[0m\u001b[1;33m(\u001b[0m\u001b[0mdf\u001b[0m\u001b[1;33m)\u001b[0m\u001b[1;33m\u001b[0m\u001b[1;33m\u001b[0m\u001b[0m\n",
      "\u001b[1;32mc:\\python\\lib\\site-packages\\pyarrow\\feather.py\u001b[0m in \u001b[0;36m__init__\u001b[1;34m(self, dest)\u001b[0m\n\u001b[0;32m     80\u001b[0m         \u001b[0mself\u001b[0m\u001b[1;33m.\u001b[0m\u001b[0mdest\u001b[0m \u001b[1;33m=\u001b[0m \u001b[0mdest\u001b[0m\u001b[1;33m\u001b[0m\u001b[1;33m\u001b[0m\u001b[0m\n\u001b[0;32m     81\u001b[0m         \u001b[0mself\u001b[0m\u001b[1;33m.\u001b[0m\u001b[0mwriter\u001b[0m \u001b[1;33m=\u001b[0m \u001b[0mext\u001b[0m\u001b[1;33m.\u001b[0m\u001b[0mFeatherWriter\u001b[0m\u001b[1;33m(\u001b[0m\u001b[1;33m)\u001b[0m\u001b[1;33m\u001b[0m\u001b[1;33m\u001b[0m\u001b[0m\n\u001b[1;32m---> 82\u001b[1;33m         \u001b[0mself\u001b[0m\u001b[1;33m.\u001b[0m\u001b[0mwriter\u001b[0m\u001b[1;33m.\u001b[0m\u001b[0mopen\u001b[0m\u001b[1;33m(\u001b[0m\u001b[0mdest\u001b[0m\u001b[1;33m)\u001b[0m\u001b[1;33m\u001b[0m\u001b[1;33m\u001b[0m\u001b[0m\n\u001b[0m\u001b[0;32m     83\u001b[0m \u001b[1;33m\u001b[0m\u001b[0m\n\u001b[0;32m     84\u001b[0m     \u001b[1;32mdef\u001b[0m \u001b[0mwrite\u001b[0m\u001b[1;33m(\u001b[0m\u001b[0mself\u001b[0m\u001b[1;33m,\u001b[0m \u001b[0mdf\u001b[0m\u001b[1;33m)\u001b[0m\u001b[1;33m:\u001b[0m\u001b[1;33m\u001b[0m\u001b[1;33m\u001b[0m\u001b[0m\n",
      "\u001b[1;32mc:\\python\\lib\\site-packages\\pyarrow\\feather.pxi\u001b[0m in \u001b[0;36mpyarrow.lib.FeatherWriter.open\u001b[1;34m()\u001b[0m\n",
      "\u001b[1;32mc:\\python\\lib\\site-packages\\pyarrow\\io.pxi\u001b[0m in \u001b[0;36mpyarrow.lib.get_writer\u001b[1;34m()\u001b[0m\n",
      "\u001b[1;32mc:\\python\\lib\\site-packages\\pyarrow\\io.pxi\u001b[0m in \u001b[0;36mpyarrow.lib.OSFile.__cinit__\u001b[1;34m()\u001b[0m\n",
      "\u001b[1;32mc:\\python\\lib\\site-packages\\pyarrow\\io.pxi\u001b[0m in \u001b[0;36mpyarrow.lib.OSFile._open_writable\u001b[1;34m()\u001b[0m\n",
      "\u001b[1;32mc:\\python\\lib\\site-packages\\pyarrow\\error.pxi\u001b[0m in \u001b[0;36mpyarrow.lib.check_status\u001b[1;34m()\u001b[0m\n",
      "\u001b[1;31mArrowIOError\u001b[0m: Failed to open local file 'tmp/houseprices-raw', error: The requested operation cannot be performed on a file with a user-mapped section open.\r\n"
     ]
    }
   ],
   "source": [
    "os.makedirs('tmp', exist_ok=True)\n",
    "df_raw.to_feather('tmp/houseprices-raw')"
   ]
  },
  {
   "cell_type": "markdown",
   "metadata": {},
   "source": [
    "### Pre-processing"
   ]
  },
  {
   "cell_type": "markdown",
   "metadata": {},
   "source": [
    "In the future we can simply read it from this fast format."
   ]
  },
  {
   "cell_type": "code",
   "execution_count": 36,
   "metadata": {},
   "outputs": [],
   "source": [
    "df_raw = pd.read_feather('tmp/houseprices-raw')"
   ]
  },
  {
   "cell_type": "markdown",
   "metadata": {},
   "source": [
    "We'll replace categories with their numeric codes, handle missing continuous values, and split the dependent variable into a separate variable."
   ]
  },
  {
   "cell_type": "code",
   "execution_count": 40,
   "metadata": {},
   "outputs": [],
   "source": [
    "df, y, nas = proc_df(df_raw, 'SalePrice')"
   ]
  },
  {
   "cell_type": "markdown",
   "metadata": {},
   "source": [
    "We now have something we can pass to a random forest!"
   ]
  },
  {
   "cell_type": "code",
   "execution_count": 122,
   "metadata": {},
   "outputs": [
    {
     "data": {
      "text/plain": [
       "0.966137311133911"
      ]
     },
     "execution_count": 122,
     "metadata": {},
     "output_type": "execute_result"
    }
   ],
   "source": [
    "m = RandomForestRegressor(n_jobs=-1,n_estimators=99)\n",
    "m.fit(df, y)\n",
    "m.score(df,y)"
   ]
  },
  {
   "cell_type": "markdown",
   "metadata": {},
   "source": [
    "In statistics, the coefficient of determination, denoted R2 or r2 and pronounced \"R squared\", is the proportion of the variance in the dependent variable that is predictable from the independent variable(s). https://en.wikipedia.org/wiki/Coefficient_of_determination"
   ]
  },
  {
   "cell_type": "code",
   "execution_count": 123,
   "metadata": {},
   "outputs": [
    {
     "data": {
      "text/plain": [
       "((1060, 83), (1060,), (400, 83))"
      ]
     },
     "execution_count": 123,
     "metadata": {},
     "output_type": "execute_result"
    }
   ],
   "source": [
    "def split_vals(a,n): return a[:n].copy(), a[n:].copy()\n",
    "\n",
    "n_valid = 400  # same as Kaggle's test set size\n",
    "n_trn = len(df)-n_valid\n",
    "raw_train, raw_valid = split_vals(df_raw, n_trn)\n",
    "X_train, X_valid = split_vals(df, n_trn)\n",
    "y_train, y_valid = split_vals(y, n_trn)\n",
    "\n",
    "X_train.shape, y_train.shape, X_valid.shape"
   ]
  },
  {
   "cell_type": "markdown",
   "metadata": {},
   "source": [
    "# Random Forests"
   ]
  },
  {
   "cell_type": "markdown",
   "metadata": {},
   "source": [
    "## Base model"
   ]
  },
  {
   "cell_type": "markdown",
   "metadata": {},
   "source": [
    "Let's try our model again, this time with separate training and validation sets."
   ]
  },
  {
   "cell_type": "code",
   "execution_count": 124,
   "metadata": {},
   "outputs": [],
   "source": [
    "def rmse(x,y): return math.sqrt(((x-y)**2).mean())\n",
    "\n",
    "def print_score(m):\n",
    "    res = [rmse(m.predict(X_train), y_train), rmse(m.predict(X_valid), y_valid),\n",
    "                m.score(X_train, y_train), m.score(X_valid, y_valid)]\n",
    "    if hasattr(m, 'oob_score_'): res.append(m.oob_score_)\n",
    "    print(res)"
   ]
  },
  {
   "cell_type": "code",
   "execution_count": 125,
   "metadata": {},
   "outputs": [
    {
     "name": "stdout",
     "output_type": "stream",
     "text": [
      "Wall time: 1.35 s\n",
      "[0.05963142779850772, 0.14483776454059152, 0.9785087492823242, 0.8536188416328226, 0.863921111620378]\n"
     ]
    }
   ],
   "source": [
    "m = RandomForestRegressor(n_jobs=-1,n_estimators=99,oob_score=True)\n",
    "%time m.fit(X_train, y_train)\n",
    "print_score(m)"
   ]
  },
  {
   "cell_type": "markdown",
   "metadata": {},
   "source": [
    "An r^2 in the high-80's isn't bad at all (and the RMSLE puts us around rank 100 of 470 on the Kaggle leaderboard), but we can see from the validation set score that we're over-fitting badly. To understand this issue, let's simplify things down to a single small tree."
   ]
  },
  {
   "cell_type": "markdown",
   "metadata": {},
   "source": [
    "## Speeding things up"
   ]
  },
  {
   "cell_type": "markdown",
   "metadata": {},
   "source": [
    "## Single tree"
   ]
  },
  {
   "cell_type": "code",
   "execution_count": 49,
   "metadata": {},
   "outputs": [
    {
     "name": "stdout",
     "output_type": "stream",
     "text": [
      "[0.21168554305506201, 0.2312282585974746, 0.7291719312935654, 0.6269187955728913]\n"
     ]
    }
   ],
   "source": [
    "m = RandomForestRegressor(n_estimators=1, max_depth=3, bootstrap=False, n_jobs=-1)\n",
    "m.fit(X_train, y_train)\n",
    "print_score(m)"
   ]
  },
  {
   "cell_type": "code",
   "execution_count": 51,
   "metadata": {},
   "outputs": [
    {
     "data": {
      "image/svg+xml": [
       "<?xml version=\"1.0\" encoding=\"UTF-8\" standalone=\"no\"?>\r\n",
       "<!DOCTYPE svg PUBLIC \"-//W3C//DTD SVG 1.1//EN\"\r\n",
       " \"http://www.w3.org/Graphics/SVG/1.1/DTD/svg11.dtd\">\r\n",
       "<!-- Generated by graphviz version 2.38.0 (20140413.2041)\r\n",
       " -->\r\n",
       "<!-- Title: Tree Pages: 1 -->\r\n",
       "<svg width=\"720pt\" height=\"434pt\"\r\n",
       " viewBox=\"0.00 0.00 720.00 434.49\" xmlns=\"http://www.w3.org/2000/svg\" xmlns:xlink=\"http://www.w3.org/1999/xlink\">\r\n",
       "<g id=\"graph0\" class=\"graph\" transform=\"scale(0.778659 0.778659) rotate(0) translate(4 554)\">\r\n",
       "<title>Tree</title>\r\n",
       "<polygon fill=\"white\" stroke=\"none\" points=\"-4,4 -4,-554 920.667,-554 920.667,4 -4,4\"/>\r\n",
       "<!-- 0 -->\r\n",
       "<g id=\"node1\" class=\"node\"><title>0</title>\r\n",
       "<polygon fill=\"#f4caab\" stroke=\"black\" points=\"147.167,-308.5 32.1667,-308.5 32.1667,-240.5 147.167,-240.5 147.167,-308.5\"/>\r\n",
       "<text text-anchor=\"start\" x=\"40.1667\" y=\"-293.3\" font-family=\"Times New Roman,serif\" font-size=\"14.00\">OverallQual ≤ 6.5</text>\r\n",
       "<text text-anchor=\"start\" x=\"54.6667\" y=\"-278.3\" font-family=\"Times New Roman,serif\" font-size=\"14.00\">mse = 0.165</text>\r\n",
       "<text text-anchor=\"start\" x=\"45.6667\" y=\"-263.3\" font-family=\"Times New Roman,serif\" font-size=\"14.00\">samples = 1060</text>\r\n",
       "<text text-anchor=\"start\" x=\"48.6667\" y=\"-248.3\" font-family=\"Times New Roman,serif\" font-size=\"14.00\">value = 12.029</text>\r\n",
       "</g>\r\n",
       "<!-- 1 -->\r\n",
       "<g id=\"node2\" class=\"node\"><title>1</title>\r\n",
       "<polygon fill=\"#f9e0ce\" stroke=\"black\" points=\"400.667,-361.5 272.667,-361.5 272.667,-293.5 400.667,-293.5 400.667,-361.5\"/>\r\n",
       "<text text-anchor=\"start\" x=\"280.667\" y=\"-346.3\" font-family=\"Times New Roman,serif\" font-size=\"14.00\">GrLivArea ≤ 1378.5</text>\r\n",
       "<text text-anchor=\"start\" x=\"301.667\" y=\"-331.3\" font-family=\"Times New Roman,serif\" font-size=\"14.00\">mse = 0.085</text>\r\n",
       "<text text-anchor=\"start\" x=\"295.667\" y=\"-316.3\" font-family=\"Times New Roman,serif\" font-size=\"14.00\">samples = 653</text>\r\n",
       "<text text-anchor=\"start\" x=\"295.667\" y=\"-301.3\" font-family=\"Times New Roman,serif\" font-size=\"14.00\">value = 11.808</text>\r\n",
       "</g>\r\n",
       "<!-- 0&#45;&gt;1 -->\r\n",
       "<g id=\"edge1\" class=\"edge\"><title>0&#45;&gt;1</title>\r\n",
       "<path fill=\"none\" stroke=\"black\" d=\"M147.182,-286.726C181.413,-294.131 225.442,-303.655 262.336,-311.637\"/>\r\n",
       "<polygon fill=\"black\" stroke=\"black\" points=\"262.025,-315.15 272.539,-313.844 263.505,-308.308 262.025,-315.15\"/>\r\n",
       "<text text-anchor=\"middle\" x=\"251.523\" y=\"-323.684\" font-family=\"Times New Roman,serif\" font-size=\"14.00\">True</text>\r\n",
       "</g>\r\n",
       "<!-- 8 -->\r\n",
       "<g id=\"node9\" class=\"node\"><title>8</title>\r\n",
       "<polygon fill=\"#eda674\" stroke=\"black\" points=\"394.167,-255.5 279.167,-255.5 279.167,-187.5 394.167,-187.5 394.167,-255.5\"/>\r\n",
       "<text text-anchor=\"start\" x=\"287.167\" y=\"-240.3\" font-family=\"Times New Roman,serif\" font-size=\"14.00\">OverallQual ≤ 7.5</text>\r\n",
       "<text text-anchor=\"start\" x=\"305.167\" y=\"-225.3\" font-family=\"Times New Roman,serif\" font-size=\"14.00\">mse = 0.09</text>\r\n",
       "<text text-anchor=\"start\" x=\"295.667\" y=\"-210.3\" font-family=\"Times New Roman,serif\" font-size=\"14.00\">samples = 407</text>\r\n",
       "<text text-anchor=\"start\" x=\"295.667\" y=\"-195.3\" font-family=\"Times New Roman,serif\" font-size=\"14.00\">value = 12.383</text>\r\n",
       "</g>\r\n",
       "<!-- 0&#45;&gt;8 -->\r\n",
       "<g id=\"edge8\" class=\"edge\"><title>0&#45;&gt;8</title>\r\n",
       "<path fill=\"none\" stroke=\"black\" d=\"M147.182,-262.274C183.505,-254.417 230.86,-244.172 269.017,-235.918\"/>\r\n",
       "<polygon fill=\"black\" stroke=\"black\" points=\"269.978,-239.291 279.012,-233.756 268.498,-232.45 269.978,-239.291\"/>\r\n",
       "<text text-anchor=\"middle\" x=\"257.996\" y=\"-216.516\" font-family=\"Times New Roman,serif\" font-size=\"14.00\">False</text>\r\n",
       "</g>\r\n",
       "<!-- 2 -->\r\n",
       "<g id=\"node3\" class=\"node\"><title>2</title>\r\n",
       "<polygon fill=\"#fbebdf\" stroke=\"black\" points=\"668.167,-486.5 531.167,-486.5 531.167,-418.5 668.167,-418.5 668.167,-486.5\"/>\r\n",
       "<text text-anchor=\"start\" x=\"539.167\" y=\"-471.3\" font-family=\"Times New Roman,serif\" font-size=\"14.00\">TotalBsmtSF ≤ 814.5</text>\r\n",
       "<text text-anchor=\"start\" x=\"564.667\" y=\"-456.3\" font-family=\"Times New Roman,serif\" font-size=\"14.00\">mse = 0.074</text>\r\n",
       "<text text-anchor=\"start\" x=\"558.667\" y=\"-441.3\" font-family=\"Times New Roman,serif\" font-size=\"14.00\">samples = 407</text>\r\n",
       "<text text-anchor=\"start\" x=\"558.667\" y=\"-426.3\" font-family=\"Times New Roman,serif\" font-size=\"14.00\">value = 11.699</text>\r\n",
       "</g>\r\n",
       "<!-- 1&#45;&gt;2 -->\r\n",
       "<g id=\"edge2\" class=\"edge\"><title>1&#45;&gt;2</title>\r\n",
       "<path fill=\"none\" stroke=\"black\" d=\"M400.847,-357.759C437.301,-375.218 483.406,-397.298 521.933,-415.75\"/>\r\n",
       "<polygon fill=\"black\" stroke=\"black\" points=\"520.513,-418.951 531.044,-420.114 523.537,-412.638 520.513,-418.951\"/>\r\n",
       "</g>\r\n",
       "<!-- 5 -->\r\n",
       "<g id=\"node6\" class=\"node\"><title>5</title>\r\n",
       "<polygon fill=\"#f5ceb2\" stroke=\"black\" points=\"666.167,-361.5 533.167,-361.5 533.167,-293.5 666.167,-293.5 666.167,-361.5\"/>\r\n",
       "<text text-anchor=\"start\" x=\"541.167\" y=\"-346.3\" font-family=\"Times New Roman,serif\" font-size=\"14.00\">BsmtFinSF1 ≤ 239.0</text>\r\n",
       "<text text-anchor=\"start\" x=\"564.667\" y=\"-331.3\" font-family=\"Times New Roman,serif\" font-size=\"14.00\">mse = 0.051</text>\r\n",
       "<text text-anchor=\"start\" x=\"558.667\" y=\"-316.3\" font-family=\"Times New Roman,serif\" font-size=\"14.00\">samples = 246</text>\r\n",
       "<text text-anchor=\"start\" x=\"558.667\" y=\"-301.3\" font-family=\"Times New Roman,serif\" font-size=\"14.00\">value = 11.989</text>\r\n",
       "</g>\r\n",
       "<!-- 1&#45;&gt;5 -->\r\n",
       "<g id=\"edge5\" class=\"edge\"><title>1&#45;&gt;5</title>\r\n",
       "<path fill=\"none\" stroke=\"black\" d=\"M400.847,-327.5C437.548,-327.5 484.029,-327.5 522.713,-327.5\"/>\r\n",
       "<polygon fill=\"black\" stroke=\"black\" points=\"522.884,-331 532.884,-327.5 522.884,-324 522.884,-331\"/>\r\n",
       "</g>\r\n",
       "<!-- 3 -->\r\n",
       "<g id=\"node4\" class=\"node\"><title>3</title>\r\n",
       "<polygon fill=\"#ffffff\" stroke=\"black\" points=\"888.667,-550 790.667,-550 790.667,-497 888.667,-497 888.667,-550\"/>\r\n",
       "<text text-anchor=\"start\" x=\"804.667\" y=\"-534.8\" font-family=\"Times New Roman,serif\" font-size=\"14.00\">mse = 0.086</text>\r\n",
       "<text text-anchor=\"start\" x=\"798.667\" y=\"-519.8\" font-family=\"Times New Roman,serif\" font-size=\"14.00\">samples = 139</text>\r\n",
       "<text text-anchor=\"start\" x=\"798.667\" y=\"-504.8\" font-family=\"Times New Roman,serif\" font-size=\"14.00\">value = 11.499</text>\r\n",
       "</g>\r\n",
       "<!-- 2&#45;&gt;3 -->\r\n",
       "<g id=\"edge3\" class=\"edge\"><title>2&#45;&gt;3</title>\r\n",
       "<path fill=\"none\" stroke=\"black\" d=\"M668.231,-472.656C703.754,-483.253 746.849,-496.109 780.817,-506.242\"/>\r\n",
       "<polygon fill=\"black\" stroke=\"black\" points=\"780.01,-509.654 790.593,-509.159 782.011,-502.946 780.01,-509.654\"/>\r\n",
       "</g>\r\n",
       "<!-- 4 -->\r\n",
       "<g id=\"node5\" class=\"node\"><title>4</title>\r\n",
       "<polygon fill=\"#f9e1cf\" stroke=\"black\" points=\"888.667,-479 790.667,-479 790.667,-426 888.667,-426 888.667,-479\"/>\r\n",
       "<text text-anchor=\"start\" x=\"804.667\" y=\"-463.8\" font-family=\"Times New Roman,serif\" font-size=\"14.00\">mse = 0.036</text>\r\n",
       "<text text-anchor=\"start\" x=\"798.667\" y=\"-448.8\" font-family=\"Times New Roman,serif\" font-size=\"14.00\">samples = 268</text>\r\n",
       "<text text-anchor=\"start\" x=\"798.667\" y=\"-433.8\" font-family=\"Times New Roman,serif\" font-size=\"14.00\">value = 11.802</text>\r\n",
       "</g>\r\n",
       "<!-- 2&#45;&gt;4 -->\r\n",
       "<g id=\"edge4\" class=\"edge\"><title>2&#45;&gt;4</title>\r\n",
       "<path fill=\"none\" stroke=\"black\" d=\"M668.231,-452.5C703.602,-452.5 746.48,-452.5 780.379,-452.5\"/>\r\n",
       "<polygon fill=\"black\" stroke=\"black\" points=\"780.593,-456 790.593,-452.5 780.593,-449 780.593,-456\"/>\r\n",
       "</g>\r\n",
       "<!-- 6 -->\r\n",
       "<g id=\"node7\" class=\"node\"><title>6</title>\r\n",
       "<polygon fill=\"#f8dbc6\" stroke=\"black\" points=\"888.667,-408 790.667,-408 790.667,-355 888.667,-355 888.667,-408\"/>\r\n",
       "<text text-anchor=\"start\" x=\"804.667\" y=\"-392.8\" font-family=\"Times New Roman,serif\" font-size=\"14.00\">mse = 0.048</text>\r\n",
       "<text text-anchor=\"start\" x=\"798.667\" y=\"-377.8\" font-family=\"Times New Roman,serif\" font-size=\"14.00\">samples = 104</text>\r\n",
       "<text text-anchor=\"start\" x=\"798.667\" y=\"-362.8\" font-family=\"Times New Roman,serif\" font-size=\"14.00\">value = 11.859</text>\r\n",
       "</g>\r\n",
       "<!-- 5&#45;&gt;6 -->\r\n",
       "<g id=\"edge6\" class=\"edge\"><title>5&#45;&gt;6</title>\r\n",
       "<path fill=\"none\" stroke=\"black\" d=\"M666.331,-342.399C702.147,-350.525 746.09,-360.495 780.638,-368.334\"/>\r\n",
       "<polygon fill=\"black\" stroke=\"black\" points=\"780.051,-371.79 790.578,-370.589 781.6,-364.963 780.051,-371.79\"/>\r\n",
       "</g>\r\n",
       "<!-- 7 -->\r\n",
       "<g id=\"node8\" class=\"node\"><title>7</title>\r\n",
       "<polygon fill=\"#f3c4a3\" stroke=\"black\" points=\"888.667,-337 790.667,-337 790.667,-284 888.667,-284 888.667,-337\"/>\r\n",
       "<text text-anchor=\"start\" x=\"804.667\" y=\"-321.8\" font-family=\"Times New Roman,serif\" font-size=\"14.00\">mse = 0.031</text>\r\n",
       "<text text-anchor=\"start\" x=\"798.667\" y=\"-306.8\" font-family=\"Times New Roman,serif\" font-size=\"14.00\">samples = 142</text>\r\n",
       "<text text-anchor=\"start\" x=\"798.667\" y=\"-291.8\" font-family=\"Times New Roman,serif\" font-size=\"14.00\">value = 12.084</text>\r\n",
       "</g>\r\n",
       "<!-- 5&#45;&gt;7 -->\r\n",
       "<g id=\"edge7\" class=\"edge\"><title>5&#45;&gt;7</title>\r\n",
       "<path fill=\"none\" stroke=\"black\" d=\"M666.331,-322.81C701.993,-320.262 745.712,-317.14 780.193,-314.677\"/>\r\n",
       "<polygon fill=\"black\" stroke=\"black\" points=\"780.852,-318.139 790.578,-313.935 780.354,-311.156 780.852,-318.139\"/>\r\n",
       "</g>\r\n",
       "<!-- 9 -->\r\n",
       "<g id=\"node10\" class=\"node\"><title>9</title>\r\n",
       "<polygon fill=\"#f0b68d\" stroke=\"black\" points=\"663.667,-255.5 535.667,-255.5 535.667,-187.5 663.667,-187.5 663.667,-255.5\"/>\r\n",
       "<text text-anchor=\"start\" x=\"543.667\" y=\"-240.3\" font-family=\"Times New Roman,serif\" font-size=\"14.00\">GrLivArea ≤ 1725.0</text>\r\n",
       "<text text-anchor=\"start\" x=\"564.667\" y=\"-225.3\" font-family=\"Times New Roman,serif\" font-size=\"14.00\">mse = 0.044</text>\r\n",
       "<text text-anchor=\"start\" x=\"558.667\" y=\"-210.3\" font-family=\"Times New Roman,serif\" font-size=\"14.00\">samples = 236</text>\r\n",
       "<text text-anchor=\"start\" x=\"558.667\" y=\"-195.3\" font-family=\"Times New Roman,serif\" font-size=\"14.00\">value = 12.225</text>\r\n",
       "</g>\r\n",
       "<!-- 8&#45;&gt;9 -->\r\n",
       "<g id=\"edge9\" class=\"edge\"><title>8&#45;&gt;9</title>\r\n",
       "<path fill=\"none\" stroke=\"black\" d=\"M394.3,-221.5C432.666,-221.5 483.733,-221.5 525.221,-221.5\"/>\r\n",
       "<polygon fill=\"black\" stroke=\"black\" points=\"525.275,-225 535.275,-221.5 525.275,-218 525.275,-225\"/>\r\n",
       "</g>\r\n",
       "<!-- 12 -->\r\n",
       "<g id=\"node13\" class=\"node\"><title>12</title>\r\n",
       "<polygon fill=\"#e89151\" stroke=\"black\" points=\"663.667,-131.5 535.667,-131.5 535.667,-63.5 663.667,-63.5 663.667,-131.5\"/>\r\n",
       "<text text-anchor=\"start\" x=\"543.667\" y=\"-116.3\" font-family=\"Times New Roman,serif\" font-size=\"14.00\">GrLivArea ≤ 1939.5</text>\r\n",
       "<text text-anchor=\"start\" x=\"564.667\" y=\"-101.3\" font-family=\"Times New Roman,serif\" font-size=\"14.00\">mse = 0.072</text>\r\n",
       "<text text-anchor=\"start\" x=\"558.667\" y=\"-86.3\" font-family=\"Times New Roman,serif\" font-size=\"14.00\">samples = 171</text>\r\n",
       "<text text-anchor=\"start\" x=\"558.667\" y=\"-71.3\" font-family=\"Times New Roman,serif\" font-size=\"14.00\">value = 12.601</text>\r\n",
       "</g>\r\n",
       "<!-- 8&#45;&gt;12 -->\r\n",
       "<g id=\"edge12\" class=\"edge\"><title>8&#45;&gt;12</title>\r\n",
       "<path fill=\"none\" stroke=\"black\" d=\"M394.3,-194.594C432.909,-176.251 484.381,-151.797 526.009,-132.019\"/>\r\n",
       "<polygon fill=\"black\" stroke=\"black\" points=\"527.745,-135.07 535.275,-127.617 524.741,-128.747 527.745,-135.07\"/>\r\n",
       "</g>\r\n",
       "<!-- 10 -->\r\n",
       "<g id=\"node11\" class=\"node\"><title>10</title>\r\n",
       "<polygon fill=\"#f2bf9b\" stroke=\"black\" points=\"888.667,-266 790.667,-266 790.667,-213 888.667,-213 888.667,-266\"/>\r\n",
       "<text text-anchor=\"start\" x=\"804.667\" y=\"-250.8\" font-family=\"Times New Roman,serif\" font-size=\"14.00\">mse = 0.029</text>\r\n",
       "<text text-anchor=\"start\" x=\"798.667\" y=\"-235.8\" font-family=\"Times New Roman,serif\" font-size=\"14.00\">samples = 138</text>\r\n",
       "<text text-anchor=\"start\" x=\"798.667\" y=\"-220.8\" font-family=\"Times New Roman,serif\" font-size=\"14.00\">value = 12.133</text>\r\n",
       "</g>\r\n",
       "<!-- 9&#45;&gt;10 -->\r\n",
       "<g id=\"edge10\" class=\"edge\"><title>9&#45;&gt;10</title>\r\n",
       "<path fill=\"none\" stroke=\"black\" d=\"M663.821,-226.276C699.919,-229.006 744.884,-232.407 780.174,-235.076\"/>\r\n",
       "<polygon fill=\"black\" stroke=\"black\" points=\"780.089,-238.58 790.325,-235.844 780.617,-231.6 780.089,-238.58\"/>\r\n",
       "</g>\r\n",
       "<!-- 11 -->\r\n",
       "<g id=\"node12\" class=\"node\"><title>11</title>\r\n",
       "<polygon fill=\"#eda978\" stroke=\"black\" points=\"888.667,-195 790.667,-195 790.667,-142 888.667,-142 888.667,-195\"/>\r\n",
       "<text text-anchor=\"start\" x=\"804.667\" y=\"-179.8\" font-family=\"Times New Roman,serif\" font-size=\"14.00\">mse = 0.037</text>\r\n",
       "<text text-anchor=\"start\" x=\"802.167\" y=\"-164.8\" font-family=\"Times New Roman,serif\" font-size=\"14.00\">samples = 98</text>\r\n",
       "<text text-anchor=\"start\" x=\"798.667\" y=\"-149.8\" font-family=\"Times New Roman,serif\" font-size=\"14.00\">value = 12.355</text>\r\n",
       "</g>\r\n",
       "<!-- 9&#45;&gt;11 -->\r\n",
       "<g id=\"edge11\" class=\"edge\"><title>9&#45;&gt;11</title>\r\n",
       "<path fill=\"none\" stroke=\"black\" d=\"M663.821,-207.436C699.919,-199.398 744.884,-189.384 780.174,-181.526\"/>\r\n",
       "<polygon fill=\"black\" stroke=\"black\" points=\"781.324,-184.855 790.325,-179.265 779.803,-178.023 781.324,-184.855\"/>\r\n",
       "</g>\r\n",
       "<!-- 13 -->\r\n",
       "<g id=\"node14\" class=\"node\"><title>13</title>\r\n",
       "<polygon fill=\"#eb9e67\" stroke=\"black\" points=\"888.667,-124 790.667,-124 790.667,-71 888.667,-71 888.667,-124\"/>\r\n",
       "<text text-anchor=\"start\" x=\"804.667\" y=\"-108.8\" font-family=\"Times New Roman,serif\" font-size=\"14.00\">mse = 0.042</text>\r\n",
       "<text text-anchor=\"start\" x=\"802.167\" y=\"-93.8\" font-family=\"Times New Roman,serif\" font-size=\"14.00\">samples = 90</text>\r\n",
       "<text text-anchor=\"start\" x=\"798.667\" y=\"-78.8\" font-family=\"Times New Roman,serif\" font-size=\"14.00\">value = 12.462</text>\r\n",
       "</g>\r\n",
       "<!-- 12&#45;&gt;13 -->\r\n",
       "<g id=\"edge13\" class=\"edge\"><title>12&#45;&gt;13</title>\r\n",
       "<path fill=\"none\" stroke=\"black\" d=\"M663.821,-97.5C699.919,-97.5 744.884,-97.5 780.174,-97.5\"/>\r\n",
       "<polygon fill=\"black\" stroke=\"black\" points=\"780.325,-101 790.325,-97.5 780.325,-94.0001 780.325,-101\"/>\r\n",
       "</g>\r\n",
       "<!-- 14 -->\r\n",
       "<g id=\"node15\" class=\"node\"><title>14</title>\r\n",
       "<polygon fill=\"#e58139\" stroke=\"black\" points=\"888.667,-53 790.667,-53 790.667,-0 888.667,-0 888.667,-53\"/>\r\n",
       "<text text-anchor=\"start\" x=\"804.667\" y=\"-37.8\" font-family=\"Times New Roman,serif\" font-size=\"14.00\">mse = 0.061</text>\r\n",
       "<text text-anchor=\"start\" x=\"802.167\" y=\"-22.8\" font-family=\"Times New Roman,serif\" font-size=\"14.00\">samples = 81</text>\r\n",
       "<text text-anchor=\"start\" x=\"798.667\" y=\"-7.8\" font-family=\"Times New Roman,serif\" font-size=\"14.00\">value = 12.756</text>\r\n",
       "</g>\r\n",
       "<!-- 12&#45;&gt;14 -->\r\n",
       "<g id=\"edge14\" class=\"edge\"><title>12&#45;&gt;14</title>\r\n",
       "<path fill=\"none\" stroke=\"black\" d=\"M663.821,-78.6597C700.074,-67.8448 745.27,-54.3621 780.628,-43.814\"/>\r\n",
       "<polygon fill=\"black\" stroke=\"black\" points=\"781.742,-47.1341 790.325,-40.9214 779.741,-40.4262 781.742,-47.1341\"/>\r\n",
       "</g>\r\n",
       "</g>\r\n",
       "</svg>\r\n"
      ],
      "text/plain": [
       "<graphviz.files.Source at 0x11c7df81888>"
      ]
     },
     "metadata": {},
     "output_type": "display_data"
    }
   ],
   "source": [
    "os.environ[\"PATH\"] += os.pathsep + 'C:/Program Files (x86)/Graphviz2.38/bin'\n",
    "draw_tree(m.estimators_[0], df, precision=3)"
   ]
  },
  {
   "cell_type": "code",
   "execution_count": null,
   "metadata": {},
   "outputs": [],
   "source": []
  },
  {
   "cell_type": "markdown",
   "metadata": {},
   "source": [
    "Let's see what happens if we create a bigger tree."
   ]
  },
  {
   "cell_type": "code",
   "execution_count": 52,
   "metadata": {},
   "outputs": [
    {
     "name": "stdout",
     "output_type": "stream",
     "text": [
      "[3.155355899391085e-05, 0.21190551572937324, 0.9999999939826125, 0.6866670442303957]\n"
     ]
    }
   ],
   "source": [
    "m = RandomForestRegressor(n_estimators=1, bootstrap=False, n_jobs=-1)\n",
    "m.fit(X_train, y_train)\n",
    "print_score(m)"
   ]
  },
  {
   "cell_type": "markdown",
   "metadata": {},
   "source": [
    "The training set result looks great! But the validation set is worse than our original model. This is why we need to use *bagging* of multiple trees to get more generalizable results."
   ]
  },
  {
   "cell_type": "markdown",
   "metadata": {},
   "source": [
    "## Bagging"
   ]
  },
  {
   "cell_type": "markdown",
   "metadata": {},
   "source": [
    "### Intro to bagging"
   ]
  },
  {
   "cell_type": "markdown",
   "metadata": {},
   "source": [
    "To learn about bagging in random forests, let's start with our basic model again."
   ]
  },
  {
   "cell_type": "code",
   "execution_count": 62,
   "metadata": {},
   "outputs": [
    {
     "name": "stdout",
     "output_type": "stream",
     "text": [
      "[0.05492492385216201, 0.1438356239006853, 0.9817673329435475, 0.8556374728151633]\n"
     ]
    }
   ],
   "source": [
    "m = RandomForestRegressor(n_jobs=-1,n_estimators=99)\n",
    "m.fit(X_train, y_train)\n",
    "print_score(m)"
   ]
  },
  {
   "cell_type": "markdown",
   "metadata": {},
   "source": [
    "We'll grab the predictions for each individual tree, and look at one example."
   ]
  },
  {
   "cell_type": "code",
   "execution_count": 167,
   "metadata": {},
   "outputs": [
    {
     "data": {
      "text/plain": [
       "(array([12.13249, 12.45509, 12.48677, 12.37762, 12.11765, 12.44448, 12.3539 , 12.36818, 12.14346, 12.16987,\n",
       "        12.64449, 12.38172, 12.27146, 12.23219, 12.17682, 12.27568, 12.29834, 12.10345, 12.46272, 12.14022,\n",
       "        12.23351, 12.68539, 12.46465, 12.2966 , 12.33063, 12.38979, 12.15092, 12.28603, 12.23947, 12.15382,\n",
       "        12.13461, 12.4916 , 12.27775, 12.29913, 12.26847, 12.65961, 12.30656, 12.101  , 12.24272, 12.27654,\n",
       "        12.14075, 12.47111, 12.34901, 12.47423, 12.39377, 12.69627, 12.13735, 12.6007 , 12.14465, 12.23577,\n",
       "        12.3173 , 12.34998, 12.11413, 12.41067, 12.35175, 12.35821, 12.11194, 12.19871, 12.11774, 12.33639,\n",
       "        12.14736, 12.46997, 12.27724, 12.25706, 12.40284, 12.40308, 12.20918, 12.30931, 12.18664, 12.4158 ,\n",
       "        12.60419, 12.11172, 12.26756, 12.61765, 12.12274, 12.36382, 12.18811, 12.45411, 12.09163, 12.13061,\n",
       "        12.11481, 12.44515, 12.63431, 12.13054, 12.40979, 12.13199, 12.5041 , 12.31107, 12.64849, 12.10337,\n",
       "        12.09257, 12.15676, 12.4932 , 12.12915, 12.14014, 12.20121, 12.20484, 12.31577, 12.2029 , 12.13749,\n",
       "        12.19553, 12.17178, 12.42011, 12.36061, 12.21661, 12.13012, 12.25728, 12.18498, 12.1314 , 12.10386,\n",
       "        12.17803, 12.18794, 12.5536 , 12.41733, 12.32679, 12.19562, 12.10863, 12.49195, 12.01277, 12.29523,\n",
       "        12.02094, 12.13896, 12.22092, 12.47294, 12.34117, 12.13274, 12.27555, 12.45897, 12.16167, 12.04205,\n",
       "        12.13649, 12.36474, 12.35973, 12.12241, 12.48952, 12.20515, 12.44594, 12.30363, 12.26816, 12.2057 ,\n",
       "        12.48014, 12.18791, 12.17931, 12.22486, 12.3115 , 12.54243, 12.24165, 12.09726, 12.23518]),\n",
       " 12.28712662244653,\n",
       " 12.271392111650817)"
      ]
     },
     "execution_count": 167,
     "metadata": {},
     "output_type": "execute_result"
    }
   ],
   "source": [
    "preds = np.stack([t.predict(X_valid) for t in m.estimators_])\n",
    "preds[:,0], np.mean(preds[:,0]), y_valid[0]"
   ]
  },
  {
   "cell_type": "code",
   "execution_count": 168,
   "metadata": {},
   "outputs": [
    {
     "data": {
      "text/plain": [
       "(149, 400)"
      ]
     },
     "execution_count": 168,
     "metadata": {},
     "output_type": "execute_result"
    }
   ],
   "source": [
    "preds.shape"
   ]
  },
  {
   "cell_type": "code",
   "execution_count": 169,
   "metadata": {},
   "outputs": [
    {
     "data": {
      "image/png": "[encoded data removed]",
      "text/plain": [
       "<Figure size 432x288 with 1 Axes>"
      ]
     },
     "metadata": {
      "needs_background": "light"
     },
     "output_type": "display_data"
    }
   ],
   "source": [
    "plt.plot([metrics.r2_score(y_valid, np.mean(preds[:i+1], axis=0)) for i in range(99)]);"
   ]
  },
  {
   "cell_type": "code",
   "execution_count": 170,
   "metadata": {},
   "outputs": [
    {
     "data": {
      "text/plain": [
       "98"
      ]
     },
     "execution_count": 170,
     "metadata": {},
     "output_type": "execute_result"
    }
   ],
   "source": [
    "np.argmax([metrics.r2_score(y_valid, np.mean(preds[:i+1], axis=0)) for i in range(99)])"
   ]
  },
  {
   "cell_type": "code",
   "execution_count": 67,
   "metadata": {},
   "outputs": [
    {
     "name": "stdout",
     "output_type": "stream",
     "text": [
      "[0.05492492385216202, 0.14383562390068527, 0.9817673329435475, 0.8556374728151637]\n"
     ]
    }
   ],
   "source": [
    "print_score(m) # 99 trees"
   ]
  },
  {
   "cell_type": "code",
   "execution_count": 70,
   "metadata": {},
   "outputs": [
    {
     "name": "stdout",
     "output_type": "stream",
     "text": [
      "[0.05982693119869245, 0.14073401028567414, 0.9783675988755509, 0.8617962969525237]\n"
     ]
    }
   ],
   "source": [
    "m = RandomForestRegressor(n_jobs=-1,n_estimators=24)\n",
    "m.fit(X_train, y_train)\n",
    "print_score(m)"
   ]
  },
  {
   "cell_type": "markdown",
   "metadata": {},
   "source": [
    "The shape of this curve suggests that adding more trees isn't going to help us much. Let's check. (Compare this to our original model on a sample)"
   ]
  },
  {
   "cell_type": "code",
   "execution_count": 53,
   "metadata": {},
   "outputs": [
    {
     "name": "stdout",
     "output_type": "stream",
     "text": [
      "[0.10246327590278419, 0.3640688465673624, 0.9773180301352264, 0.7495389916863923]\n"
     ]
    }
   ],
   "source": [
    "m = RandomForestRegressor(n_estimators=20, n_jobs=-1)\n",
    "m.fit(X_train, y_train)\n",
    "print_score(m)"
   ]
  },
  {
   "cell_type": "code",
   "execution_count": 54,
   "metadata": {},
   "outputs": [
    {
     "name": "stdout",
     "output_type": "stream",
     "text": [
      "[0.09657886264650363, 0.36416366571298026, 0.9798484494264761, 0.7494085131156123]\n"
     ]
    }
   ],
   "source": [
    "m = RandomForestRegressor(n_estimators=40, n_jobs=-1)\n",
    "m.fit(X_train, y_train)\n",
    "print_score(m)"
   ]
  },
  {
   "cell_type": "code",
   "execution_count": 55,
   "metadata": {},
   "outputs": [
    {
     "name": "stdout",
     "output_type": "stream",
     "text": [
      "[0.094465564383976, 0.3634271114492856, 0.9807206963871963, 0.750421176301737]\n"
     ]
    }
   ],
   "source": [
    "m = RandomForestRegressor(n_estimators=80, n_jobs=-1)\n",
    "m.fit(X_train, y_train)\n",
    "print_score(m)"
   ]
  },
  {
   "cell_type": "markdown",
   "metadata": {},
   "source": [
    "### Out-of-bag (OOB) score"
   ]
  },
  {
   "cell_type": "markdown",
   "metadata": {},
   "source": [
    "Is our validation set worse than our training set because we're over-fitting, or because the validation set is for a different time period, or a bit of both? With the existing information we've shown, we can't tell. However, random forests have a very clever trick called *out-of-bag (OOB) error* which can handle this (and more!)\n",
    "\n",
    "The idea is to calculate error on the training set, but only include the trees in the calculation of a row's error where that row was *not* included in training that tree. This allows us to see whether the model is over-fitting, without needing a separate validation set.\n",
    "\n",
    "This also has the benefit of allowing us to see whether our model generalizes, even if we only have a small amount of data so want to avoid separating some out to create a validation set.\n",
    "\n",
    "This is as simple as adding one more parameter to our model constructor. We print the OOB error last in our `print_score` function below."
   ]
  },
  {
   "cell_type": "code",
   "execution_count": 71,
   "metadata": {},
   "outputs": [
    {
     "name": "stdout",
     "output_type": "stream",
     "text": [
      "[0.05652696203424838, 0.13998118183180838, 0.9806882084286045, 0.8632709284142369, 0.8613786521232305]\n"
     ]
    }
   ],
   "source": [
    "m = RandomForestRegressor(n_estimators=40, n_jobs=-1, oob_score=True)\n",
    "m.fit(X_train, y_train)\n",
    "print_score(m)"
   ]
  },
  {
   "cell_type": "code",
   "execution_count": 72,
   "metadata": {},
   "outputs": [
    {
     "name": "stderr",
     "output_type": "stream",
     "text": [
      "c:\\python\\lib\\site-packages\\sklearn\\ensemble\\forest.py:737: UserWarning: Some inputs do not have OOB scores. This probably means too few trees were used to compute any reliable oob estimates.\n",
      "  warn(\"Some inputs do not have OOB scores. \"\n"
     ]
    },
    {
     "name": "stdout",
     "output_type": "stream",
     "text": [
      "[0.05658237686994761, 0.14716755357780684, 0.9806503261766303, 0.8488717358268396, 0.021136979641895093]\n"
     ]
    }
   ],
   "source": [
    "m = RandomForestRegressor(n_estimators=24, n_jobs=-1, oob_score=True)\n",
    "m.fit(X_train, y_train)\n",
    "print_score(m)"
   ]
  },
  {
   "cell_type": "markdown",
   "metadata": {},
   "source": [
    "This shows that our validation set time difference is making an impact, as is model over-fitting."
   ]
  },
  {
   "cell_type": "markdown",
   "metadata": {},
   "source": [
    "## Reducing over-fitting"
   ]
  },
  {
   "cell_type": "markdown",
   "metadata": {},
   "source": [
    "### Subsampling"
   ]
  },
  {
   "cell_type": "markdown",
   "metadata": {},
   "source": [
    "It turns out that one of the easiest ways to avoid over-fitting is also one of the best ways to speed up analysis: *subsampling*. Let's return to using our full dataset, so that we can demonstrate the impact of this technique."
   ]
  },
  {
   "cell_type": "code",
   "execution_count": 126,
   "metadata": {},
   "outputs": [],
   "source": [
    "df_trn, y_trn, nas = proc_df(df_raw, 'SalePrice')\n",
    "X_train, X_valid = split_vals(df_trn, n_trn)\n",
    "y_train, y_valid = split_vals(y_trn, n_trn)"
   ]
  },
  {
   "cell_type": "markdown",
   "metadata": {},
   "source": [
    "The basic idea is this: rather than limit the total amount of data that our model can access, let's instead limit it to a *different* random subset per tree. That way, given enough trees, the model can still see *all* the data, but for each individual tree it'll be just as fast as if we had cut down our dataset as before."
   ]
  },
  {
   "cell_type": "code",
   "execution_count": 58,
   "metadata": {},
   "outputs": [
    {
     "data": {
      "text/plain": [
       "((389125, 66), (12000, 66))"
      ]
     },
     "execution_count": 58,
     "metadata": {},
     "output_type": "execute_result"
    }
   ],
   "source": [
    "X_train.shape, X_valid.shape"
   ]
  },
  {
   "cell_type": "code",
   "execution_count": 76,
   "metadata": {},
   "outputs": [],
   "source": [
    "set_rf_samples(1200)"
   ]
  },
  {
   "cell_type": "code",
   "execution_count": 127,
   "metadata": {},
   "outputs": [
    {
     "name": "stdout",
     "output_type": "stream",
     "text": [
      "Wall time: 546 ms\n",
      "[0.05918541106041582, 0.14807899745176867, 0.9788290371037338, 0.8469939921141598, 0.8619703875328975]\n"
     ]
    }
   ],
   "source": [
    "m = RandomForestRegressor(n_jobs=-1, oob_score=True,n_estimators=40)\n",
    "%time m.fit(X_train, y_train)\n",
    "print_score(m)"
   ]
  },
  {
   "cell_type": "code",
   "execution_count": 79,
   "metadata": {},
   "outputs": [],
   "source": [
    "set_rf_samples(1000)"
   ]
  },
  {
   "cell_type": "code",
   "execution_count": 82,
   "metadata": {},
   "outputs": [
    {
     "name": "stdout",
     "output_type": "stream",
     "text": [
      "Wall time: 419 ms\n",
      "[0.06092865104950948, 0.14009923265288934, 0.9775635366393045, 0.8630402147558822, 0.8552203768888235]\n"
     ]
    }
   ],
   "source": [
    "m = RandomForestRegressor(n_jobs=-1, oob_score=True,n_estimators=40)\n",
    "%time m.fit(X_train, y_train)\n",
    "print_score(m)"
   ]
  },
  {
   "cell_type": "markdown",
   "metadata": {},
   "source": [
    "Since each additional tree allows the model to see more data, this approach can make additional trees more useful."
   ]
  },
  {
   "cell_type": "code",
   "execution_count": 83,
   "metadata": {},
   "outputs": [
    {
     "name": "stdout",
     "output_type": "stream",
     "text": [
      "[0.06047506886333493, 0.14062818304687627, 0.9778963488550153, 0.8620040678706167, 0.8621944609965175]\n"
     ]
    }
   ],
   "source": [
    "m = RandomForestRegressor(n_estimators=50, n_jobs=-1, oob_score=True)\n",
    "m.fit(X_train, y_train)\n",
    "print_score(m)"
   ]
  },
  {
   "cell_type": "markdown",
   "metadata": {},
   "source": [
    "### Tree building parameters"
   ]
  },
  {
   "cell_type": "markdown",
   "metadata": {},
   "source": [
    "We revert to using a full bootstrap sample in order to show the impact of other over-fitting avoidance methods."
   ]
  },
  {
   "cell_type": "code",
   "execution_count": 62,
   "metadata": {},
   "outputs": [],
   "source": [
    "reset_rf_samples()"
   ]
  },
  {
   "cell_type": "markdown",
   "metadata": {},
   "source": [
    "Let's get a baseline for this full set to compare to."
   ]
  },
  {
   "cell_type": "code",
   "execution_count": 97,
   "metadata": {},
   "outputs": [],
   "source": [
    "def dectree_max_depth(tree):\n",
    "    children_left = tree.children_left\n",
    "    children_right = tree.children_right\n",
    "\n",
    "    def walk(node_id):\n",
    "        if (children_left[node_id] != children_right[node_id]):\n",
    "            left_max = 1 + walk(children_left[node_id])\n",
    "            right_max = 1 + walk(children_right[node_id])\n",
    "            return max(left_max, right_max)\n",
    "        else: # leaf\n",
    "            return 1\n",
    "\n",
    "    root_node_id = 0\n",
    "    return walk(root_node_id)"
   ]
  },
  {
   "cell_type": "code",
   "execution_count": 64,
   "metadata": {},
   "outputs": [
    {
     "name": "stdout",
     "output_type": "stream",
     "text": [
      "[0.07834429883279093, 0.23795464121981183, 0.9871722755547754, 0.8988801692727498, 0.90851629300197]\n"
     ]
    }
   ],
   "source": [
    "m = RandomForestRegressor(n_estimators=40, n_jobs=-1, oob_score=True)\n",
    "m.fit(X_train, y_train)\n",
    "print_score(m)"
   ]
  },
  {
   "cell_type": "code",
   "execution_count": 65,
   "metadata": {},
   "outputs": [],
   "source": [
    "t=m.estimators_[0].tree_"
   ]
  },
  {
   "cell_type": "code",
   "execution_count": 66,
   "metadata": {},
   "outputs": [
    {
     "data": {
      "text/plain": [
       "50"
      ]
     },
     "execution_count": 66,
     "metadata": {},
     "output_type": "execute_result"
    }
   ],
   "source": [
    "dectree_max_depth(t)"
   ]
  },
  {
   "cell_type": "code",
   "execution_count": 95,
   "metadata": {},
   "outputs": [
    {
     "name": "stdout",
     "output_type": "stream",
     "text": [
      "[0.08129645486424422, 0.1461874556200206, 0.9600557299197889, 0.8508779834991428, 0.8593782546905321]\n"
     ]
    }
   ],
   "source": [
    "m = RandomForestRegressor(n_estimators=50, min_samples_leaf=3, n_jobs=-1, oob_score=True)\n",
    "m.fit(X_train, y_train)\n",
    "print_score(m)"
   ]
  },
  {
   "cell_type": "code",
   "execution_count": 96,
   "metadata": {},
   "outputs": [],
   "source": [
    "t=m.estimators_[0].tree_"
   ]
  },
  {
   "cell_type": "code",
   "execution_count": 98,
   "metadata": {},
   "outputs": [
    {
     "data": {
      "text/plain": [
       "15"
      ]
     },
     "execution_count": 98,
     "metadata": {},
     "output_type": "execute_result"
    }
   ],
   "source": [
    "dectree_max_depth(t)"
   ]
  },
  {
   "cell_type": "markdown",
   "metadata": {},
   "source": [
    "Another way to reduce over-fitting is to grow our trees less deeply. We do this by specifying (with `min_samples_leaf`) that we require some minimum number of rows in every leaf node. This has two benefits:\n",
    "\n",
    "- There are less decision rules for each leaf node; simpler models should generalize better\n",
    "- The predictions are made by averaging more rows in the leaf node, resulting in less volatility"
   ]
  },
  {
   "cell_type": "code",
   "execution_count": 104,
   "metadata": {},
   "outputs": [
    {
     "name": "stdout",
     "output_type": "stream",
     "text": [
      "[0.07961342132345657, 0.14157060177087513, 0.9616924964895284, 0.8601483130448757, 0.8647138891939848]\n"
     ]
    }
   ],
   "source": [
    "m = RandomForestRegressor(n_estimators=199, min_samples_leaf=3, n_jobs=-1, oob_score=True)\n",
    "m.fit(X_train, y_train)\n",
    "print_score(m)"
   ]
  },
  {
   "cell_type": "markdown",
   "metadata": {},
   "source": [
    "We can also increase the amount of variation amongst the trees by not only use a sample of rows for each tree, but to also using a sample of *columns* for each *split*. We do this by specifying `max_features`, which is the proportion of features to randomly select from at each split."
   ]
  },
  {
   "cell_type": "markdown",
   "metadata": {},
   "source": [
    "- None\n",
    "- 0.5\n",
    "- 'sqrt'"
   ]
  },
  {
   "cell_type": "markdown",
   "metadata": {},
   "source": [
    "- 1, 3, 5, 10, 25, 100"
   ]
  },
  {
   "cell_type": "code",
   "execution_count": 128,
   "metadata": {},
   "outputs": [
    {
     "name": "stdout",
     "output_type": "stream",
     "text": [
      "[0.0802352584850798, 0.13950494973797456, 0.9610917420337498, 0.8641996819398703, 0.8741092967013575]\n"
     ]
    }
   ],
   "source": [
    "m = RandomForestRegressor(n_estimators=199, min_samples_leaf=3, max_features=0.5, n_jobs=-1, oob_score=True)\n",
    "m.fit(X_train, y_train)\n",
    "print_score(m)"
   ]
  },
  {
   "cell_type": "code",
   "execution_count": 129,
   "metadata": {},
   "outputs": [
    {
     "name": "stdout",
     "output_type": "stream",
     "text": [
      "[0.08066689729110933, 0.1394086847699186, 0.960671989216292, 0.8643870344729093, 0.8696713162492611]\n"
     ]
    }
   ],
   "source": [
    "m = RandomForestRegressor(n_estimators=99, min_samples_leaf=3, max_features=0.5, n_jobs=-1, oob_score=True)\n",
    "m.fit(X_train, y_train)\n",
    "print_score(m)"
   ]
  },
  {
   "cell_type": "code",
   "execution_count": 130,
   "metadata": {},
   "outputs": [
    {
     "name": "stdout",
     "output_type": "stream",
     "text": [
      "[0.08297764513831246, 0.14143149174255348, 0.958386572720695, 0.8604230199906832, 0.8637535879197807]\n"
     ]
    }
   ],
   "source": [
    "m = RandomForestRegressor(n_estimators=49, min_samples_leaf=3, max_features=0.5, n_jobs=-1, oob_score=True)\n",
    "m.fit(X_train, y_train)\n",
    "print_score(m)"
   ]
  },
  {
   "cell_type": "code",
   "execution_count": 131,
   "metadata": {},
   "outputs": [
    {
     "data": {
      "text/html": [
       "<div>\n",
       "<style scoped>\n",
       "    .dataframe tbody tr th:only-of-type {\n",
       "        vertical-align: middle;\n",
       "    }\n",
       "\n",
       "    .dataframe tbody tr th {\n",
       "        vertical-align: top;\n",
       "    }\n",
       "\n",
       "    .dataframe thead th {\n",
       "        text-align: right;\n",
       "    }\n",
       "</style>\n",
       "<table border=\"1\" class=\"dataframe\">\n",
       "  <thead>\n",
       "    <tr style=\"text-align: right;\">\n",
       "      <th></th>\n",
       "      <th>cols</th>\n",
       "      <th>imp</th>\n",
       "    </tr>\n",
       "  </thead>\n",
       "  <tbody>\n",
       "    <tr>\n",
       "      <th>17</th>\n",
       "      <td>OverallQual</td>\n",
       "      <td>0.404700</td>\n",
       "    </tr>\n",
       "    <tr>\n",
       "      <th>46</th>\n",
       "      <td>GrLivArea</td>\n",
       "      <td>0.138377</td>\n",
       "    </tr>\n",
       "    <tr>\n",
       "      <th>19</th>\n",
       "      <td>YearBuilt</td>\n",
       "      <td>0.060608</td>\n",
       "    </tr>\n",
       "    <tr>\n",
       "      <th>38</th>\n",
       "      <td>TotalBsmtSF</td>\n",
       "      <td>0.046136</td>\n",
       "    </tr>\n",
       "    <tr>\n",
       "      <th>61</th>\n",
       "      <td>GarageCars</td>\n",
       "      <td>0.040810</td>\n",
       "    </tr>\n",
       "    <tr>\n",
       "      <th>27</th>\n",
       "      <td>ExterQual</td>\n",
       "      <td>0.040197</td>\n",
       "    </tr>\n",
       "    <tr>\n",
       "      <th>62</th>\n",
       "      <td>GarageArea</td>\n",
       "      <td>0.039565</td>\n",
       "    </tr>\n",
       "    <tr>\n",
       "      <th>43</th>\n",
       "      <td>1stFlrSF</td>\n",
       "      <td>0.024280</td>\n",
       "    </tr>\n",
       "    <tr>\n",
       "      <th>34</th>\n",
       "      <td>BsmtFinSF1</td>\n",
       "      <td>0.017286</td>\n",
       "    </tr>\n",
       "    <tr>\n",
       "      <th>4</th>\n",
       "      <td>LotArea</td>\n",
       "      <td>0.015073</td>\n",
       "    </tr>\n",
       "  </tbody>\n",
       "</table>\n",
       "</div>"
      ],
      "text/plain": [
       "           cols       imp\n",
       "17  OverallQual  0.404700\n",
       "46    GrLivArea  0.138377\n",
       "19    YearBuilt  0.060608\n",
       "38  TotalBsmtSF  0.046136\n",
       "61   GarageCars  0.040810\n",
       "27    ExterQual  0.040197\n",
       "62   GarageArea  0.039565\n",
       "43     1stFlrSF  0.024280\n",
       "34   BsmtFinSF1  0.017286\n",
       "4       LotArea  0.015073"
      ]
     },
     "execution_count": 131,
     "metadata": {},
     "output_type": "execute_result"
    }
   ],
   "source": [
    "fi = rf_feat_importance(m, df_trn); fi[:10]"
   ]
  },
  {
   "cell_type": "code",
   "execution_count": 132,
   "metadata": {},
   "outputs": [
    {
     "data": {
      "image/png": "[encoded data removed]",
      "text/plain": [
       "<Figure size 720x432 with 1 Axes>"
      ]
     },
     "metadata": {
      "needs_background": "light"
     },
     "output_type": "display_data"
    }
   ],
   "source": [
    "fi.plot('cols', 'imp', figsize=(10,6), legend=False);"
   ]
  },
  {
   "cell_type": "code",
   "execution_count": 134,
   "metadata": {},
   "outputs": [
    {
     "data": {
      "image/png": "[encoded data removed]",
      "text/plain": [
       "<Figure size 864x504 with 1 Axes>"
      ]
     },
     "metadata": {
      "needs_background": "light"
     },
     "output_type": "display_data"
    }
   ],
   "source": [
    "def plot_fi(fi): return fi.plot('cols', 'imp', 'barh', figsize=(12,7), legend=False)\n",
    "plot_fi(fi[:30]);"
   ]
  },
  {
   "cell_type": "code",
   "execution_count": 160,
   "metadata": {},
   "outputs": [
    {
     "data": {
      "text/plain": [
       "16"
      ]
     },
     "execution_count": 160,
     "metadata": {},
     "output_type": "execute_result"
    }
   ],
   "source": [
    "to_keep = fi[fi.imp>0.009].cols; len(to_keep)"
   ]
  },
  {
   "cell_type": "code",
   "execution_count": 161,
   "metadata": {},
   "outputs": [
    {
     "data": {
      "image/png": "[encoded data removed]",
      "text/plain": [
       "<Figure size 864x504 with 1 Axes>"
      ]
     },
     "metadata": {
      "needs_background": "light"
     },
     "output_type": "display_data"
    }
   ],
   "source": [
    "plot_fi(fi[:16]);"
   ]
  },
  {
   "cell_type": "code",
   "execution_count": 184,
   "metadata": {},
   "outputs": [],
   "source": [
    "df_keep = df_trn[to_keep]"
   ]
  },
  {
   "cell_type": "code",
   "execution_count": 163,
   "metadata": {},
   "outputs": [],
   "source": [
    "X_train, X_valid = split_vals(df_keep, n_trn)\n",
    "y_train, y_valid = split_vals(y, n_trn)"
   ]
  },
  {
   "cell_type": "code",
   "execution_count": 179,
   "metadata": {},
   "outputs": [
    {
     "name": "stdout",
     "output_type": "stream",
     "text": [
      "[0.0736076601838375, 0.13981720746769177, 0.9672540721969023, 0.863591070462089, 0.8721299383403265]\n"
     ]
    }
   ],
   "source": [
    "m = RandomForestRegressor(n_estimators=98, min_samples_leaf=2, max_features=0.6, n_jobs=-1, oob_score=True)\n",
    "m.fit(X_train, y_train)\n",
    "print_score(m)"
   ]
  },
  {
   "cell_type": "markdown",
   "metadata": {},
   "source": [
    "## Dropping corellated feature - GarageArea"
   ]
  },
  {
   "cell_type": "code",
   "execution_count": 181,
   "metadata": {},
   "outputs": [],
   "source": [
    "df_keep.drop('GarageArea', axis=1); None"
   ]
  },
  {
   "cell_type": "code",
   "execution_count": 182,
   "metadata": {},
   "outputs": [],
   "source": [
    "X_train, X_valid = split_vals(df_keep, n_trn)\n",
    "y_train, y_valid = split_vals(y, n_trn)"
   ]
  },
  {
   "cell_type": "code",
   "execution_count": 183,
   "metadata": {},
   "outputs": [
    {
     "name": "stdout",
     "output_type": "stream",
     "text": [
      "[0.07419828350499988, 0.1398241808934615, 0.9667264612904081, 0.863577463249024, 0.8727423106075262]\n"
     ]
    }
   ],
   "source": [
    "m = RandomForestRegressor(n_estimators=98, min_samples_leaf=2, max_features=0.6, n_jobs=-1, oob_score=True)\n",
    "m.fit(X_train, y_train)\n",
    "print_score(m)"
   ]
  },
  {
   "cell_type": "markdown",
   "metadata": {},
   "source": [
    "## Dropping corellated feature - GarageCars"
   ]
  },
  {
   "cell_type": "code",
   "execution_count": 185,
   "metadata": {},
   "outputs": [],
   "source": [
    "df_keep = df_trn[to_keep]"
   ]
  },
  {
   "cell_type": "code",
   "execution_count": 186,
   "metadata": {},
   "outputs": [],
   "source": [
    "df_keep.drop('GarageCars', axis=1); None"
   ]
  },
  {
   "cell_type": "code",
   "execution_count": 187,
   "metadata": {},
   "outputs": [],
   "source": [
    "X_train, X_valid = split_vals(df_keep, n_trn)\n",
    "y_train, y_valid = split_vals(y, n_trn)"
   ]
  },
  {
   "cell_type": "code",
   "execution_count": 188,
   "metadata": {},
   "outputs": [
    {
     "name": "stdout",
     "output_type": "stream",
     "text": [
      "[0.0748432885365288, 0.14212372728212483, 0.9661454537086536, 0.8590533589877303, 0.8713955191885738]\n"
     ]
    }
   ],
   "source": [
    "m = RandomForestRegressor(n_estimators=98, min_samples_leaf=2, max_features=0.6, n_jobs=-1, oob_score=True)\n",
    "m.fit(X_train, y_train)\n",
    "print_score(m)"
   ]
  },
  {
   "cell_type": "code",
   "execution_count": null,
   "metadata": {},
   "outputs": [],
   "source": []
  }
 ],
 "metadata": {
  "kernelspec": {
   "display_name": "Python 3",
   "language": "python",
   "name": "python3"
  },
  "language_info": {
   "codemirror_mode": {
    "name": "ipython",
    "version": 3
   },
   "file_extension": ".py",
   "mimetype": "text/x-python",
   "name": "python",
   "nbconvert_exporter": "python",
   "pygments_lexer": "ipython3",
   "version": "3.7.5"
  }
 },
 "nbformat": 4,
 "nbformat_minor": 2
}
